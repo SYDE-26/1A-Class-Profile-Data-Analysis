{
  "nbformat": 4,
  "nbformat_minor": 0,
  "metadata": {
    "colab": {
      "name": "birth_year.ipynb",
      "provenance": []
    },
    "kernelspec": {
      "name": "python3",
      "display_name": "Python 3"
    },
    "language_info": {
      "name": "python"
    }
  },
  "cells": [
    {
      "cell_type": "code",
      "execution_count": 2,
      "metadata": {
        "id": "2E-bqUM7gzhz"
      },
      "outputs": [],
      "source": [
        "# Import dependecies \n",
        "\n",
        "import pandas as pd\n",
        "import matplotlib.pyplot as plt\n",
        "import seaborn as sns"
      ]
    },
    {
      "cell_type": "code",
      "source": [
        "# Import data\n",
        "\n",
        "data = pd.read_csv('unordered_demographics.csv')\n",
        "\n",
        "# Identify column of interest and rename it\n",
        "\n",
        "column = ['What year were you born?']\n",
        "relevant_data = data[column].dropna().rename(columns={'What year were you born?': 'birth_year'})"
      ],
      "metadata": {
        "id": "Sgvxz3E9g3W-"
      },
      "execution_count": 3,
      "outputs": []
    },
    {
      "cell_type": "code",
      "source": [
        "# Generate distribution\n",
        "\n",
        "distribution = relevant_data.groupby('birth_year')['birth_year'].count()\n",
        "distribution"
      ],
      "metadata": {
        "colab": {
          "base_uri": "https://localhost:8080/"
        },
        "id": "3A9fDazAg40C",
        "outputId": "f28bc728-252f-4782-a415-f4748979abf2"
      },
      "execution_count": 4,
      "outputs": [
        {
          "output_type": "execute_result",
          "data": {
            "text/plain": [
              "birth_year\n",
              "2002      4\n",
              "2003     84\n",
              "<2002     2\n",
              ">2003     1\n",
              "Name: birth_year, dtype: int64"
            ]
          },
          "metadata": {},
          "execution_count": 4
        }
      ]
    },
    {
      "cell_type": "code",
      "source": [
        "# Plot graph with appropriate title, color palette, and data\n",
        "\n",
        "plt.title(\"SYDE Students' Average Years of Birth\")\n",
        "labels=['2002', '2003', '<2002', '>2003']\n",
        "colors = sns.color_palette('pastel')\n",
        "plt.pie(distribution, autopct='%.1f%%', labels=labels, colors=colors)"
      ],
      "metadata": {
        "colab": {
          "base_uri": "https://localhost:8080/",
          "height": 472
        },
        "id": "ZFophBcqg6iV",
        "outputId": "4aa5331b-443d-432c-fb42-3218e40381d4"
      },
      "execution_count": 5,
      "outputs": [
        {
          "output_type": "execute_result",
          "data": {
            "text/plain": [
              "([<matplotlib.patches.Wedge at 0x7f3aa2681590>,\n",
              "  <matplotlib.patches.Wedge at 0x7f3aa2681cd0>,\n",
              "  <matplotlib.patches.Wedge at 0x7f3aa2617590>,\n",
              "  <matplotlib.patches.Wedge at 0x7f3aa2617e90>],\n",
              " [Text(1.0895284878605296, 0.1514188698291866, '2002'),\n",
              "  Text(-1.0993445537956055, -0.037967776336539735, '2003'),\n",
              "  Text(1.0895284940629038, -0.15141882520024083, '<2002'),\n",
              "  Text(1.0993445561284407, -0.03796770878999741, '>2003')],\n",
              " [Text(0.5942882661057433, 0.08259211081591995, '4.4%'),\n",
              "  Text(-0.5996424838885119, -0.020709696183567126, '92.3%'),\n",
              "  Text(0.5942882694888566, -0.08259208647285864, '2.2%'),\n",
              "  Text(0.5996424851609675, -0.020709659339998583, '1.1%')])"
            ]
          },
          "metadata": {},
          "execution_count": 5
        },
        {
          "output_type": "display_data",
          "data": {
            "image/png": "[encoded data removed]",
            "text/plain": [
              "<Figure size 432x288 with 1 Axes>"
            ]
          },
          "metadata": {}
        }
      ]
    }
  ]
}
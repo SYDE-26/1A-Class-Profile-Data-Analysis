{
  "nbformat": 4,
  "nbformat_minor": 0,
  "metadata": {
    "colab": {
      "name": "immigrants_vs_native.ipynb",
      "provenance": [],
      "collapsed_sections": []
    },
    "kernelspec": {
      "name": "python3",
      "display_name": "Python 3"
    },
    "language_info": {
      "name": "python"
    }
  },
  "cells": [
    {
      "cell_type": "code",
      "execution_count": null,
      "metadata": {
        "id": "3l9EN7VJkS0S"
      },
      "outputs": [],
      "source": [
        "# Import dependecies \n",
        "\n",
        "import pandas as pd\n",
        "import matplotlib.pyplot as plt"
      ]
    },
    {
      "cell_type": "code",
      "source": [
        "# Import data\n",
        "\n",
        "data = pd.read_csv('unordered_demographics.csv')\n",
        "\n",
        "# Identify column of interest and rename it\n",
        "\n",
        "column = ['Which better describes your parents?']\n",
        "relevant_data = data[column].dropna().rename(columns={'Which better describes your parents?': 'immigrants_vs_native'})"
      ],
      "metadata": {
        "id": "hbNFg_OYklaQ"
      },
      "execution_count": null,
      "outputs": []
    },
    {
      "cell_type": "code",
      "source": [
        "# Generate distribution\n",
        "\n",
        "distribution = relevant_data.groupby('immigrants_vs_native')['immigrants_vs_native'].count()\n",
        "distribution"
      ],
      "metadata": {
        "colab": {
          "base_uri": "https://localhost:8080/"
        },
        "id": "fS7S-0WDkm4i",
        "outputId": "eb6eb30b-2035-4f5f-ea2c-6f8ab3091a66"
      },
      "execution_count": null,
      "outputs": [
        {
          "output_type": "execute_result",
          "data": {
            "text/plain": [
              "immigrants_vs_native\n",
              "Immigrants     73\n",
              "Native-born    19\n",
              "Name: immigrants_vs_native, dtype: int64"
            ]
          },
          "metadata": {},
          "execution_count": 3
        }
      ]
    },
    {
      "cell_type": "code",
      "source": [
        "# Plot graph with appropriate title, color palette, and data\n",
        "\n",
        "plt.title(\"Which better describes your parents? [n=92]\")\n",
        "labels=['Immigrants', 'Native-born']\n",
        "colors = [\"#FEE71C\", \"#FFF073\"]\n",
        "plt.pie(distribution, autopct='%.1f%%', labels=labels, colors=colors)"
      ],
      "metadata": {
        "colab": {
          "base_uri": "https://localhost:8080/",
          "height": 368
        },
        "id": "CgfBcyVRkof6",
        "outputId": "dfe3cb8e-0ea6-4e6f-bd74-038f674aee44"
      },
      "execution_count": null,
      "outputs": [
        {
          "output_type": "execute_result",
          "data": {
            "text/plain": [
              "([<matplotlib.patches.Wedge at 0x7f2703fc9e10>,\n",
              "  <matplotlib.patches.Wedge at 0x7f2703fd9610>],\n",
              " [Text(-0.8764856009122899, 0.6646600570166844, 'Immigrants'),\n",
              "  Text(0.8764855697973064, -0.6646600980479356, 'Native-born')],\n",
              " [Text(-0.47808305504306714, 0.3625418492818278, '79.3%'),\n",
              "  Text(0.47808303807125796, -0.3625418716625103, '20.7%')])"
            ]
          },
          "metadata": {},
          "execution_count": 5
        },
        {
          "output_type": "display_data",
          "data": {
            "text/plain": [
              "<Figure size 432x288 with 1 Axes>"
            ],
            "image/png": "[encoded data removed]"
          },
          "metadata": {}
        }
      ]
    }
  ]
}
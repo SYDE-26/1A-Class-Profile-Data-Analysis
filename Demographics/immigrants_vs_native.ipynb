{
  "nbformat": 4,
  "nbformat_minor": 0,
  "metadata": {
    "colab": {
      "name": "immigrants_vs_native.ipynb",
      "provenance": []
    },
    "kernelspec": {
      "name": "python3",
      "display_name": "Python 3"
    },
    "language_info": {
      "name": "python"
    }
  },
  "cells": [
    {
      "cell_type": "code",
      "execution_count": null,
      "metadata": {
        "id": "3l9EN7VJkS0S"
      },
      "outputs": [],
      "source": [
        "# Import dependecies \n",
        "\n",
        "import pandas as pd\n",
        "import matplotlib.pyplot as plt\n",
        "import seaborn as sns"
      ]
    },
    {
      "cell_type": "code",
      "source": [
        "# Import data\n",
        "\n",
        "data = pd.read_csv('unordered_demographics.csv')\n",
        "\n",
        "# Identify column of interest and rename it\n",
        "\n",
        "column = ['Which better describes your parents?']\n",
        "relevant_data = data[column].dropna().rename(columns={'Which better describes your parents?': 'immigrants_vs_native'})"
      ],
      "metadata": {
        "id": "hbNFg_OYklaQ"
      },
      "execution_count": null,
      "outputs": []
    },
    {
      "cell_type": "code",
      "source": [
        "# Generate distribution\n",
        "\n",
        "distribution = relevant_data.groupby('immigrants_vs_native')['immigrants_vs_native'].count()\n",
        "distribution"
      ],
      "metadata": {
        "colab": {
          "base_uri": "https://localhost:8080/"
        },
        "id": "fS7S-0WDkm4i",
        "outputId": "17ae6ced-57f2-4bf0-8798-fd31da5d78ad"
      },
      "execution_count": null,
      "outputs": [
        {
          "output_type": "execute_result",
          "data": {
            "text/plain": [
              "immigrants_vs_native\n",
              "Immigrants     73\n",
              "Native-born    19\n",
              "Name: immigrants_vs_native, dtype: int64"
            ]
          },
          "metadata": {},
          "execution_count": 6
        }
      ]
    },
    {
      "cell_type": "code",
      "source": [
        "# Plot graph with appropriate title, color palette, and data\n",
        "\n",
        "plt.title(\"Immigrant vs Native-born Parents\")\n",
        "labels=['Immigrants', 'Native-born']\n",
        "colors = sns.color_palette('pastel')\n",
        "plt.pie(distribution, autopct='%.1f%%', labels=labels, colors=colors)"
      ],
      "metadata": {
        "colab": {
          "base_uri": "https://localhost:8080/",
          "height": 368
        },
        "id": "CgfBcyVRkof6",
        "outputId": "cce7c6bc-42fd-44e3-a2a9-41664cbee05b"
      },
      "execution_count": null,
      "outputs": [
        {
          "output_type": "execute_result",
          "data": {
            "text/plain": [
              "([<matplotlib.patches.Wedge at 0x7f1783097890>,\n",
              "  <matplotlib.patches.Wedge at 0x7f17830a0050>],\n",
              " [Text(-0.8764856009122899, 0.6646600570166844, 'Immigrants'),\n",
              "  Text(0.8764855697973064, -0.6646600980479356, 'Native-born')],\n",
              " [Text(-0.47808305504306714, 0.3625418492818278, '79.3%'),\n",
              "  Text(0.47808303807125796, -0.3625418716625103, '20.7%')])"
            ]
          },
          "metadata": {},
          "execution_count": 7
        },
        {
          "output_type": "display_data",
          "data": {
            "image/png": "[encoded data removed]",
            "text/plain": [
              "<Figure size 432x288 with 1 Axes>"
            ]
          },
          "metadata": {}
        }
      ]
    }
  ]
}
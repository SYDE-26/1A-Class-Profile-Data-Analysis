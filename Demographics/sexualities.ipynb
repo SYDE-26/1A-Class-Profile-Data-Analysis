{
  "nbformat": 4,
  "nbformat_minor": 0,
  "metadata": {
    "colab": {
      "name": "sexualities.ipynb",
      "provenance": []
    },
    "kernelspec": {
      "name": "python3",
      "display_name": "Python 3"
    },
    "language_info": {
      "name": "python"
    }
  },
  "cells": [
    {
      "cell_type": "code",
      "execution_count": 1,
      "metadata": {
        "id": "MHdvxR9ye8wR"
      },
      "outputs": [],
      "source": [
        "# Import dependecies \n",
        "\n",
        "import pandas as pd\n",
        "import matplotlib.pyplot as plt"
      ]
    },
    {
      "cell_type": "code",
      "source": [
        "# Import data\n",
        "\n",
        "data = pd.read_csv('unordered_demographics.csv')\n",
        "\n",
        "# Identify column of interest and rename it\n",
        "\n",
        "column = ['What is your sexuality?']\n",
        "relevant_data = data[column].dropna().rename(columns={'What is your sexuality?': 'sexuality'})"
      ],
      "metadata": {
        "id": "ln7IY0CBfEKX"
      },
      "execution_count": 2,
      "outputs": []
    },
    {
      "cell_type": "code",
      "source": [
        "# Generate distribution\n",
        "\n",
        "distribution = relevant_data.groupby('sexuality')['sexuality'].count()\n",
        "distribution"
      ],
      "metadata": {
        "colab": {
          "base_uri": "https://localhost:8080/"
        },
        "id": "7ZVA8eFXfF1C",
        "outputId": "acf33ce5-9ae2-46d9-b485-41b26673617f"
      },
      "execution_count": 3,
      "outputs": [
        {
          "output_type": "execute_result",
          "data": {
            "text/plain": [
              "sexuality\n",
              "Bisexual         8\n",
              "Heterosexual    81\n",
              "Homosexual       2\n",
              "Pansexual        1\n",
              "Name: sexuality, dtype: int64"
            ]
          },
          "metadata": {},
          "execution_count": 3
        }
      ]
    },
    {
      "cell_type": "code",
      "source": [
        "# Plot graph with appropriate title, color palette, and data\n",
        "plt.figure(figsize=(7, 7))\n",
        "plt.title(\"What is your sexuality? [n=92]\")\n",
        "labels=['Bisexual', 'Heterosexual', 'Homosexual', 'Pansexual']\n",
        "colors = [\"#FF76A5\", \"#C067E2\" ,\"#E06FC4\", \"#FFBBD2\"]\n",
        "plt.pie(distribution, autopct='%.1f%%', labels=labels, colors=colors)"
      ],
      "metadata": {
        "colab": {
          "base_uri": "https://localhost:8080/",
          "height": 641
        },
        "id": "AbYiIudDfHWI",
        "outputId": "7ec25075-d2c1-4bd4-a132-3c67c760326b"
      },
      "execution_count": 7,
      "outputs": [
        {
          "output_type": "execute_result",
          "data": {
            "text/plain": [
              "([<matplotlib.patches.Wedge at 0x7faa99185f50>,\n",
              "  <matplotlib.patches.Wedge at 0x7faa991b6d50>,\n",
              "  <matplotlib.patches.Wedge at 0x7faa99141610>,\n",
              "  <matplotlib.patches.Wedge at 0x7faa99141e50>],\n",
              " [Text(1.0592090145724589, 0.2967764536624172, 'Bisexual'),\n",
              "  Text(-1.0840054508486996, -0.18690153164248718, 'Heterosexual'),\n",
              "  Text(1.0897545691827992, -0.14978310634117467, 'Homosexual'),\n",
              "  Text(1.099358731830992, -0.03755500961194126, 'Pansexual')],\n",
              " [Text(0.5777503715849774, 0.1618780656340457, '8.7%'),\n",
              "  Text(-0.591275700462927, -0.10194628998681118, '88.0%'),\n",
              "  Text(0.5944115831906177, -0.08169987618609527, '2.2%'),\n",
              "  Text(0.5996502173623592, -0.020484550697422502, '1.1%')])"
            ]
          },
          "metadata": {},
          "execution_count": 7
        },
        {
          "output_type": "display_data",
          "data": {
            "text/plain": [
              "<Figure size 504x504 with 1 Axes>"
            ],
            "image/png": "[encoded data removed]"
          },
          "metadata": {}
        }
      ]
    }
  ]
}
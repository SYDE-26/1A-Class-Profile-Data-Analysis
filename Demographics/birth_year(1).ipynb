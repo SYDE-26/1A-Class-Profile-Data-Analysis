{
  "nbformat": 4,
  "nbformat_minor": 0,
  "metadata": {
    "colab": {
      "name": "birth_year(1).ipynb",
      "provenance": [],
      "collapsed_sections": []
    },
    "kernelspec": {
      "name": "python3",
      "display_name": "Python 3"
    },
    "language_info": {
      "name": "python"
    }
  },
  "cells": [
    {
      "cell_type": "code",
      "execution_count": 1,
      "metadata": {
        "id": "IOrGCdMuvkJI"
      },
      "outputs": [],
      "source": [
        "# Import dependecies \n",
        "\n",
        "import pandas as pd\n",
        "import matplotlib.pyplot as plt"
      ]
    },
    {
      "cell_type": "code",
      "source": [
        "# Import data\n",
        "\n",
        "data = pd.read_csv('unordered_demographics.csv')\n",
        "\n",
        "# Identify column of interest and rename it\n",
        "\n",
        "column = ['What year were you born?']\n",
        "relevant_data = data[column].dropna().rename(columns={'What year were you born?': 'birth_year'})"
      ],
      "metadata": {
        "id": "uP-1nAhYvonE"
      },
      "execution_count": 2,
      "outputs": []
    },
    {
      "cell_type": "code",
      "source": [
        "# Generate distribution\n",
        "\n",
        "distribution = relevant_data.groupby('birth_year')['birth_year'].count()\n",
        "distribution"
      ],
      "metadata": {
        "colab": {
          "base_uri": "https://localhost:8080/"
        },
        "id": "uPmtGxlgvpsT",
        "outputId": "afb4a994-abaf-4bfc-b5cc-abb3741e210b"
      },
      "execution_count": 3,
      "outputs": [
        {
          "output_type": "execute_result",
          "data": {
            "text/plain": [
              "birth_year\n",
              "2002      4\n",
              "2003     84\n",
              "<2002     2\n",
              ">2003     1\n",
              "Name: birth_year, dtype: int64"
            ]
          },
          "metadata": {},
          "execution_count": 3
        }
      ]
    },
    {
      "cell_type": "code",
      "source": [
        "# Plot graph with appropriate title, color palette, and data\n",
        "plt.figure(figsize=(7, 7))\n",
        "plt.title(\"What year were you born? [n=91]\")\n",
        "labels=['2002', '2003', '<2002', '>2003']\n",
        "mycolors = [\"#FFFF65\", \"#FFD800\", \"#E9E96F\", \"#FFFFB2\"]\n",
        "graph = plt.pie(distribution, autopct='%.1f%%', labels=labels, colors=mycolors)"
      ],
      "metadata": {
        "colab": {
          "base_uri": "https://localhost:8080/",
          "height": 427
        },
        "id": "arQmSyCrvqzR",
        "outputId": "57aec1b3-cb60-4007-b1a8-ecf9ffa80094"
      },
      "execution_count": 19,
      "outputs": [
        {
          "output_type": "display_data",
          "data": {
            "text/plain": [
              "<Figure size 504x504 with 1 Axes>"
            ],
            "image/png": "[encoded data removed]"
          },
          "metadata": {}
        }
      ]
    }
  ]
}
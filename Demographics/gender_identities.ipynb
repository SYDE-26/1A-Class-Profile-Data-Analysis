{
  "nbformat": 4,
  "nbformat_minor": 0,
  "metadata": {
    "colab": {
      "name": "gender_identities.ipynb",
      "provenance": []
    },
    "kernelspec": {
      "name": "python3",
      "display_name": "Python 3"
    },
    "language_info": {
      "name": "python"
    }
  },
  "cells": [
    {
      "cell_type": "code",
      "execution_count": 1,
      "metadata": {
        "id": "UwXhqu_GJrvU"
      },
      "outputs": [],
      "source": [
        "# Import dependecies \n",
        "\n",
        "import pandas as pd\n",
        "import matplotlib.pyplot as plt"
      ]
    },
    {
      "cell_type": "code",
      "source": [
        "# Import data\n",
        "\n",
        "data = pd.read_csv('unordered_demographics.csv')\n",
        "\n",
        "# Identify column of interest and rename it\n",
        "\n",
        "column = ['What do you identify as?']\n",
        "relevant_data = data[column].dropna().rename(columns={'What do you identify as?': 'gender'})"
      ],
      "metadata": {
        "id": "OEUeXnhsYg_i"
      },
      "execution_count": 2,
      "outputs": []
    },
    {
      "cell_type": "code",
      "source": [
        "# Generate distribution\n",
        "\n",
        "distribution = relevant_data.groupby('gender')['gender'].count()\n",
        "distribution"
      ],
      "metadata": {
        "colab": {
          "base_uri": "https://localhost:8080/"
        },
        "id": "7nxo9SzccSSi",
        "outputId": "2c85dfcf-b08a-4bfc-fad4-e08eb084d2f9"
      },
      "execution_count": 3,
      "outputs": [
        {
          "output_type": "execute_result",
          "data": {
            "text/plain": [
              "gender\n",
              "Female        45\n",
              "Male          46\n",
              "Non-binary     1\n",
              "Name: gender, dtype: int64"
            ]
          },
          "metadata": {},
          "execution_count": 3
        }
      ]
    },
    {
      "cell_type": "code",
      "source": [
        "# Plot graph with appropriate title, color palette, and data\n",
        "plt.figure(figsize=(7, 7))\n",
        "plt.title(\"What do you identify as? [n=92]\")\n",
        "labels=['Female', 'Male', 'Non-binary']\n",
        "mycolors = [\"#FF76A5\", \"#C067E2\", \"#FFBBD2\"]\n",
        "plt.pie(distribution, autopct='%.1f%%', labels=labels, colors=mycolors)"
      ],
      "metadata": {
        "colab": {
          "base_uri": "https://localhost:8080/",
          "height": 587
        },
        "id": "ruiHjGmRdOgB",
        "outputId": "c1cf43de-d6fd-49e2-f073-d74603a740b6"
      },
      "execution_count": 7,
      "outputs": [
        {
          "output_type": "execute_result",
          "data": {
            "text/plain": [
              "([<matplotlib.patches.Wedge at 0x7f8326128890>,\n",
              "  <matplotlib.patches.Wedge at 0x7f8326134090>,\n",
              "  <matplotlib.patches.Wedge at 0x7f8326134910>],\n",
              " [Text(0.037555212254182756, 1.0993587249085457, 'Female'),\n",
              "  Text(-0.0750666368316876, -1.097435647331897, 'Male'),\n",
              "  Text(1.099358725238187, -0.037555202604552904, 'Non-binary')],\n",
              " [Text(0.020484661229554228, 0.5996502135864794, '48.9%'),\n",
              "  Text(-0.040945438271829594, -0.5986012621810346, '50.0%'),\n",
              "  Text(0.5996502137662837, -0.02048465596611976, '1.1%')])"
            ]
          },
          "metadata": {},
          "execution_count": 7
        },
        {
          "output_type": "display_data",
          "data": {
            "text/plain": [
              "<Figure size 504x504 with 1 Axes>"
            ],
            "image/png": "[encoded data removed]"
          },
          "metadata": {}
        }
      ]
    }
  ]
}
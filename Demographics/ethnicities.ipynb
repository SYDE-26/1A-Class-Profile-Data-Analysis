{
  "nbformat": 4,
  "nbformat_minor": 0,
  "metadata": {
    "colab": {
      "name": "ethnicities.ipynb",
      "provenance": [],
      "collapsed_sections": []
    },
    "kernelspec": {
      "name": "python3",
      "display_name": "Python 3"
    },
    "language_info": {
      "name": "python"
    }
  },
  "cells": [
    {
      "cell_type": "code",
      "source": [
        "!pip install matplotlib --upgrade"
      ],
      "metadata": {
        "colab": {
          "base_uri": "https://localhost:8080/",
          "height": 553
        },
        "id": "OCbAmzZMtjlp",
        "outputId": "0e6fdcd4-1019-4629-eec9-4dc48451026f"
      },
      "execution_count": 1,
      "outputs": [
        {
          "output_type": "stream",
          "name": "stdout",
          "text": [
            "Requirement already satisfied: matplotlib in /usr/local/lib/python3.7/dist-packages (3.2.2)\n",
            "Collecting matplotlib\n",
            "  Downloading matplotlib-3.5.1-cp37-cp37m-manylinux_2_5_x86_64.manylinux1_x86_64.whl (11.2 MB)\n",
            "\u001b[K     |████████████████████████████████| 11.2 MB 4.2 MB/s \n",
            "\u001b[?25hRequirement already satisfied: kiwisolver>=1.0.1 in /usr/local/lib/python3.7/dist-packages (from matplotlib) (1.4.0)\n",
            "Requirement already satisfied: packaging>=20.0 in /usr/local/lib/python3.7/dist-packages (from matplotlib) (21.3)\n",
            "Requirement already satisfied: pyparsing>=2.2.1 in /usr/local/lib/python3.7/dist-packages (from matplotlib) (3.0.7)\n",
            "Collecting fonttools>=4.22.0\n",
            "  Downloading fonttools-4.31.2-py3-none-any.whl (899 kB)\n",
            "\u001b[K     |████████████████████████████████| 899 kB 36.6 MB/s \n",
            "\u001b[?25hRequirement already satisfied: numpy>=1.17 in /usr/local/lib/python3.7/dist-packages (from matplotlib) (1.21.5)\n",
            "Requirement already satisfied: cycler>=0.10 in /usr/local/lib/python3.7/dist-packages (from matplotlib) (0.11.0)\n",
            "Requirement already satisfied: pillow>=6.2.0 in /usr/local/lib/python3.7/dist-packages (from matplotlib) (7.1.2)\n",
            "Requirement already satisfied: python-dateutil>=2.7 in /usr/local/lib/python3.7/dist-packages (from matplotlib) (2.8.2)\n",
            "Requirement already satisfied: typing-extensions in /usr/local/lib/python3.7/dist-packages (from kiwisolver>=1.0.1->matplotlib) (3.10.0.2)\n",
            "Requirement already satisfied: six>=1.5 in /usr/local/lib/python3.7/dist-packages (from python-dateutil>=2.7->matplotlib) (1.15.0)\n",
            "Installing collected packages: fonttools, matplotlib\n",
            "  Attempting uninstall: matplotlib\n",
            "    Found existing installation: matplotlib 3.2.2\n",
            "    Uninstalling matplotlib-3.2.2:\n",
            "      Successfully uninstalled matplotlib-3.2.2\n",
            "\u001b[31mERROR: pip's dependency resolver does not currently take into account all the packages that are installed. This behaviour is the source of the following dependency conflicts.\n",
            "albumentations 0.1.12 requires imgaug<0.2.7,>=0.2.5, but you have imgaug 0.2.9 which is incompatible.\u001b[0m\n",
            "Successfully installed fonttools-4.31.2 matplotlib-3.5.1\n"
          ]
        },
        {
          "output_type": "display_data",
          "data": {
            "application/vnd.colab-display-data+json": {
              "pip_warning": {
                "packages": [
                  "matplotlib",
                  "mpl_toolkits"
                ]
              }
            }
          },
          "metadata": {}
        }
      ]
    },
    {
      "cell_type": "code",
      "execution_count": 1,
      "metadata": {
        "id": "XTHgrJNv3o5z"
      },
      "outputs": [],
      "source": [
        "# Import dependecies \n",
        "\n",
        "import pandas as pd\n",
        "import matplotlib.pyplot as plt\n",
        "import seaborn as sns"
      ]
    },
    {
      "cell_type": "code",
      "source": [
        "# Import data\n",
        "\n",
        "data = pd.read_csv('demographics.csv')\n",
        "\n",
        "# Identify column of interest and rename it\n",
        "\n",
        "column = ['Which ethnicities do you identify as? (Select all that apply)']\n",
        "relevant_data = data[column].dropna().rename(columns={'Which ethnicities do you identify as? (Select all that apply)': 'ethnicities'})"
      ],
      "metadata": {
        "id": "bTNMpaMg4UPl"
      },
      "execution_count": 2,
      "outputs": []
    },
    {
      "cell_type": "code",
      "source": [
        "# Generate distribution\n",
        "\n",
        "relevant_data['Number of Respondents'] = relevant_data.groupby(['ethnicities'])['ethnicities'].transform('count')\n",
        "relevant_data['Number of Respondents']= relevant_data['Number of Respondents']/91*100\n",
        "relevant_data"
      ],
      "metadata": {
        "colab": {
          "base_uri": "https://localhost:8080/",
          "height": 423
        },
        "id": "nYGTs1mQ4WQU",
        "outputId": "9f373972-32f5-454d-d8d0-e36427613850"
      },
      "execution_count": 3,
      "outputs": [
        {
          "output_type": "execute_result",
          "data": {
            "text/plain": [
              "                                 ethnicities  Number of Respondents\n",
              "0   Indigenous (First Nations, Inuit, Métis)               1.098901\n",
              "1                                 East Asian              41.758242\n",
              "2                                      Black               3.296703\n",
              "3                            Southeast Asian               8.791209\n",
              "4                                South Asian              32.967033\n",
              "..                                       ...                    ...\n",
              "94                           Southeast Asian               8.791209\n",
              "95                                  Canadian               1.098901\n",
              "96                            Latin American               1.098901\n",
              "97                                  European              17.582418\n",
              "98                               South Asian              32.967033\n",
              "\n",
              "[99 rows x 2 columns]"
            ],
            "text/html": [
              "\n",
              "  <div id=\"df-faa72ddf-eab7-4f71-bcff-8769e79bb283\">\n",
              "    <div class=\"colab-df-container\">\n",
              "      <div>\n",
              "<style scoped>\n",
              "    .dataframe tbody tr th:only-of-type {\n",
              "        vertical-align: middle;\n",
              "    }\n",
              "\n",
              "    .dataframe tbody tr th {\n",
              "        vertical-align: top;\n",
              "    }\n",
              "\n",
              "    .dataframe thead th {\n",
              "        text-align: right;\n",
              "    }\n",
              "</style>\n",
              "<table border=\"1\" class=\"dataframe\">\n",
              "  <thead>\n",
              "    <tr style=\"text-align: right;\">\n",
              "      <th></th>\n",
              "      <th>ethnicities</th>\n",
              "      <th>Number of Respondents</th>\n",
              "    </tr>\n",
              "  </thead>\n",
              "  <tbody>\n",
              "    <tr>\n",
              "      <th>0</th>\n",
              "      <td>Indigenous (First Nations, Inuit, Métis)</td>\n",
              "      <td>1.098901</td>\n",
              "    </tr>\n",
              "    <tr>\n",
              "      <th>1</th>\n",
              "      <td>East Asian</td>\n",
              "      <td>41.758242</td>\n",
              "    </tr>\n",
              "    <tr>\n",
              "      <th>2</th>\n",
              "      <td>Black</td>\n",
              "      <td>3.296703</td>\n",
              "    </tr>\n",
              "    <tr>\n",
              "      <th>3</th>\n",
              "      <td>Southeast Asian</td>\n",
              "      <td>8.791209</td>\n",
              "    </tr>\n",
              "    <tr>\n",
              "      <th>4</th>\n",
              "      <td>South Asian</td>\n",
              "      <td>32.967033</td>\n",
              "    </tr>\n",
              "    <tr>\n",
              "      <th>...</th>\n",
              "      <td>...</td>\n",
              "      <td>...</td>\n",
              "    </tr>\n",
              "    <tr>\n",
              "      <th>94</th>\n",
              "      <td>Southeast Asian</td>\n",
              "      <td>8.791209</td>\n",
              "    </tr>\n",
              "    <tr>\n",
              "      <th>95</th>\n",
              "      <td>Canadian</td>\n",
              "      <td>1.098901</td>\n",
              "    </tr>\n",
              "    <tr>\n",
              "      <th>96</th>\n",
              "      <td>Latin American</td>\n",
              "      <td>1.098901</td>\n",
              "    </tr>\n",
              "    <tr>\n",
              "      <th>97</th>\n",
              "      <td>European</td>\n",
              "      <td>17.582418</td>\n",
              "    </tr>\n",
              "    <tr>\n",
              "      <th>98</th>\n",
              "      <td>South Asian</td>\n",
              "      <td>32.967033</td>\n",
              "    </tr>\n",
              "  </tbody>\n",
              "</table>\n",
              "<p>99 rows × 2 columns</p>\n",
              "</div>\n",
              "      <button class=\"colab-df-convert\" onclick=\"convertToInteractive('df-faa72ddf-eab7-4f71-bcff-8769e79bb283')\"\n",
              "              title=\"Convert this dataframe to an interactive table.\"\n",
              "              style=\"display:none;\">\n",
              "        \n",
              "  <svg xmlns=\"http://www.w3.org/2000/svg\" height=\"24px\"viewBox=\"0 0 24 24\"\n",
              "       width=\"24px\">\n",
              "    <path d=\"M0 0h24v24H0V0z\" fill=\"none\"/>\n",
              "    <path d=\"M18.56 5.44l.94 2.06.94-2.06 2.06-.94-2.06-.94-.94-2.06-.94 2.06-2.06.94zm-11 1L8.5 8.5l.94-2.06 2.06-.94-2.06-.94L8.5 2.5l-.94 2.06-2.06.94zm10 10l.94 2.06.94-2.06 2.06-.94-2.06-.94-.94-2.06-.94 2.06-2.06.94z\"/><path d=\"M17.41 7.96l-1.37-1.37c-.4-.4-.92-.59-1.43-.59-.52 0-1.04.2-1.43.59L10.3 9.45l-7.72 7.72c-.78.78-.78 2.05 0 2.83L4 21.41c.39.39.9.59 1.41.59.51 0 1.02-.2 1.41-.59l7.78-7.78 2.81-2.81c.8-.78.8-2.07 0-2.86zM5.41 20L4 18.59l7.72-7.72 1.47 1.35L5.41 20z\"/>\n",
              "  </svg>\n",
              "      </button>\n",
              "      \n",
              "  <style>\n",
              "    .colab-df-container {\n",
              "      display:flex;\n",
              "      flex-wrap:wrap;\n",
              "      gap: 12px;\n",
              "    }\n",
              "\n",
              "    .colab-df-convert {\n",
              "      background-color: #E8F0FE;\n",
              "      border: none;\n",
              "      border-radius: 50%;\n",
              "      cursor: pointer;\n",
              "      display: none;\n",
              "      fill: #1967D2;\n",
              "      height: 32px;\n",
              "      padding: 0 0 0 0;\n",
              "      width: 32px;\n",
              "    }\n",
              "\n",
              "    .colab-df-convert:hover {\n",
              "      background-color: #E2EBFA;\n",
              "      box-shadow: 0px 1px 2px rgba(60, 64, 67, 0.3), 0px 1px 3px 1px rgba(60, 64, 67, 0.15);\n",
              "      fill: #174EA6;\n",
              "    }\n",
              "\n",
              "    [theme=dark] .colab-df-convert {\n",
              "      background-color: #3B4455;\n",
              "      fill: #D2E3FC;\n",
              "    }\n",
              "\n",
              "    [theme=dark] .colab-df-convert:hover {\n",
              "      background-color: #434B5C;\n",
              "      box-shadow: 0px 1px 3px 1px rgba(0, 0, 0, 0.15);\n",
              "      filter: drop-shadow(0px 1px 2px rgba(0, 0, 0, 0.3));\n",
              "      fill: #FFFFFF;\n",
              "    }\n",
              "  </style>\n",
              "\n",
              "      <script>\n",
              "        const buttonEl =\n",
              "          document.querySelector('#df-faa72ddf-eab7-4f71-bcff-8769e79bb283 button.colab-df-convert');\n",
              "        buttonEl.style.display =\n",
              "          google.colab.kernel.accessAllowed ? 'block' : 'none';\n",
              "\n",
              "        async function convertToInteractive(key) {\n",
              "          const element = document.querySelector('#df-faa72ddf-eab7-4f71-bcff-8769e79bb283');\n",
              "          const dataTable =\n",
              "            await google.colab.kernel.invokeFunction('convertToInteractive',\n",
              "                                                     [key], {});\n",
              "          if (!dataTable) return;\n",
              "\n",
              "          const docLinkHtml = 'Like what you see? Visit the ' +\n",
              "            '<a target=\"_blank\" href=https://colab.research.google.com/notebooks/data_table.ipynb>data table notebook</a>'\n",
              "            + ' to learn more about interactive tables.';\n",
              "          element.innerHTML = '';\n",
              "          dataTable['output_type'] = 'display_data';\n",
              "          await google.colab.output.renderOutput(dataTable, element);\n",
              "          const docLink = document.createElement('div');\n",
              "          docLink.innerHTML = docLinkHtml;\n",
              "          element.appendChild(docLink);\n",
              "        }\n",
              "      </script>\n",
              "    </div>\n",
              "  </div>\n",
              "  "
            ]
          },
          "metadata": {},
          "execution_count": 3
        }
      ]
    },
    {
      "cell_type": "code",
      "source": [
        "# Plot graph with appropriate title, color palette, and data\n",
        "\n",
        "plt.figure(figsize=(15, 5))\n",
        "plt.title(\"Which ethnicities do you identify as? [n=91]\")\n",
        "ax = sns.barplot(y=relevant_data[\"ethnicities\"], x=relevant_data[\"Number of Respondents\"], data=relevant_data, color='#FF76A5')\n",
        "plt.xlabel(\"Number of Respondents\")\n",
        "plt.ylabel(\"Ethnicity\")\n",
        "plt.bar_label(ax.containers[0], fmt='%.1f%%')"
        "plt.savefig(test.png)"
      ],
      "metadata": {
        "colab": {
          "base_uri": "https://localhost:8080/",
          "height": 496
        },
        "id": "KpfPo7rO4YcH",
        "outputId": "33c6468b-2d90-4043-dc71-2adee849a647"
      },
      "execution_count": 5,
      "outputs": [
        {
          "output_type": "execute_result",
          "data": {
            "text/plain": [
              "[Text(0, 0, '1.1%'),\n",
              " Text(0, 0, '41.8%'),\n",
              " Text(0, 0, '3.3%'),\n",
              " Text(0, 0, '8.8%'),\n",
              " Text(0, 0, '33.0%'),\n",
              " Text(0, 0, '17.6%'),\n",
              " Text(0, 0, '1.1%'),\n",
              " Text(0, 0, '1.1%'),\n",
              " Text(0, 0, '1.1%')]"
            ]
          },
          "metadata": {},
          "execution_count": 5
        },
        {
          "output_type": "display_data",
          "data": {
            "text/plain": [
              "<Figure size 1080x360 with 1 Axes>"
            ],
            "image/png": "iVBORw0KGgoAAAANSUhEUgAABCYAAAFNCAYAAADcoG4BAAAAOXRFWHRTb2Z0d2FyZQBNYXRwbG90bGliIHZlcnNpb24zLjUuMSwgaHR0cHM6Ly9tYXRwbG90bGliLm9yZy/YYfK9AAAACXBIWXMAAAsTAAALEwEAmpwYAABOMklEQVR4nO3de5hWVdn48e8NjnjGUFERdUzNE2dHjULF3jQzUzNSsTSzMDpp9ZqpvBUqvplpEpn5syxNC7UTivqiecDME6KCeAwVKkQNy/Mgcrh/fzx78GGcYQacmQ3M93Ndc83ea+299r32bIvnftZaOzITSZIkSZKkMnQpOwBJkiRJktR5mZiQJEmSJEmlMTEhSZIkSZJKY2JCkiRJkiSVxsSEJEmSJEkqjYkJSZIkSZJUGhMTkiSJiMiI2KGZuk9HxM2taGN0RFzZ9tEtbX92RHx4Jc+9OCK+04rj/i8iPvtu23k3IuK4iPhre17j3YqI1yPivc3UtVv8EbF3RDxZtb9TREyLiNci4sT2uObKKp7X+RFxRdmxNIiIbsXfbmFEjCk7HklqYGJCkqQ1TEScFhH/16hsZjNlR7XUXmb+JjMPaOs4lyciLmvLD06ZOTIzz2rFcR/NzMuLGN7xAbu17azpMnODzHymva/TOGGWmXdm5k5Vh5wC3J6ZG2bmuA6IZ9uI+FNEzIuIf0XEaS2c8vHMPKaNY4iIGBUR/4iIVyPiqojYqKr+iIi4OyLqI2Jy9bmZuSAzNwB+05YxSdK7ZWJCkqQ1z1+AD0REV4CI2BKoAQY2KtuhOFZaXW0LPNqB19sSuBaoBYYA346IPTvw+gDHAscAHwR6AesCP6mq/w8wFjing+OSpJVmYkKSpDXP/VQSEQOK/b2B24EnG5U9nZlzq877cDGK4uWI+GlEBLxz5EBE7BYRf46I/0TECxFxelUba0fEr4uh9Y9GRF1zQUbEzlXtPBkRRxTlJwCfBk4php1PrDptQEQ8HBGvRMTVEbFOcc7QiJgTEf9dfJP9XER8rupay4zAiIhDiykAr0bE0xFxYFE+OSK+EBG7ABcDg4sYXm6mnYOLdl4uvqXuV1X37Yh4trgXT0bEfzVzHzaJiOuKWKYA2zeq/0BE3F/0+f6I+EAz7XwrIv7QqGxcRPy42O5VXOc/EfFURIxYzv0ZGhFzmrpOUb90JEMr4m/y71x13Z9GxA3FfbovIrYv6hqSZtOLv8GR1XFFxG3AfsCFRf23l9f/JvpwavG3fy0iHouIT1TV7RARdxT3/MWIuBogM+/NzMsy843M/BvwArB5c/epmfs2sqn/zlbAx4FLM/Ofmfk68APgyIhYr4jxlsy8Bpi7vEYkaVViYkKSpDVMZr4F3AfsUxTtA9wJ/LVRWePREgcDewD9gCOAjzRuOyI2BG4BJlH5tnYH4NaqQw4BrgI2Bq4DLmwqxohYH/gz8FugJ3AUcFFE7JqZl1AZan5uMWXg41WnHgEcCGxXxHlcVd0WQHdgK+DzwE8j4j1NXHtP4NfAt4o49wFmVx+TmY8DI4F7ihg2bqKdgcAvgS8CmwD/D7guKvP4dwK+CuyRmRtSuZezG7dR+CnwJpVv448vfhqu0QO4ARhXXONHwA0RsUkT7VwJHBgRGxfnrkXlvv66qL8KmEPl7zYM+N+I+FAzMa2I5cXf7N+56vyjgDOA9wBPAWcDZGbDs9q/+BtcXX3RzPwQlef6q8X0hF+30P/GnqaSoOteXP/KqIwkAjgLuLmIqTfLjkho6Nt/A92oJP1WRJP/nUXEkCJZ0dzPkOrLN9ruBuy4gnFI0irDxIQkSWumO3g7CbE3lQ9wdzYqu6PROedk5suZ+Q8qH7YGNNHuwcDzmXl+Zr6Zma9l5n1V9X/NzBszczFwBdC/mfgOBmZn5q8yc1FmPgT8AfhUC/0al5lzM/M/wMRGMS4EzszMhZl5I/A6sFMTbXwe+GVm/jkzl2Tms5n5RAvXbcoJwP/LzPsyc3GxNsUC4P3AYiofFneNiJrMnJ2ZTzduICpTaz4JfLf4Fv4R4PKqQz4GzMzMK4r7NB54gsq35svIzOeoJJsa7uGBwIuZ+UBEbE1l6P+3i7/bNOAXVKYFrLRWxN+av/OfMnNKZi6ikpAasDKxLK//zRz/u+JZWlIkPWYCDdMyFlKZJtKruF/LrDUSEUdSSWwdWIxaWBFN/neWmX/NzI2X89MQwyTgCxFRGxHdgW8X5eutYByStMowMSFJ0prpL8CQ4hv3zTJzJnA3lbUnegB9eOeIieertuuBDZpod2sq3zQ3p3Eb6xTfXDe2LbBX9TfCVKZvbLGctluK8d/Fh9vm6hu01IfW2hb470Z92JrKh9mngK8Do4F/RWWBwl5NtLEZsBbwz6qyv1dt92q031C/VTMxXQ58ptj+DJXkUEM7/8nM11rZTmu1FH9r/s6tee5aq7n+v0NEHBtvT8N5mcp/E5sW1adQGYkwJSpTko5vdPpJwCkrmdB6t/39JTAemExlfY2GERvNTr2RpFWdiQlJktZM91AZoj4CuAsgM1+lMu98BDA3M2etRLv/BJp8TeRKtHNHo2+EN8jMLxX12QbXWN61t2/xqJZj+CdwdqM+rFeMaiAzf5uZQ6h8OE8qawE0Ng9YRCWh0WCbqu25xfk0qn+2mZgmAP0iog+V0QoNb1+YC/QopuI01c4bLPuNe0sJotbG39Lfua1NoOn+LyMitgV+TmW6zSbFVJ1HKKZIZObzmTkiM3tRmapzUSz7Ot0taeM1HKLyKtTXl/OzdxHbksz8XmbWZmZvKsmJZ2n+mZCkVZ6JCUmS1kCZOR+YCnyTyhSOBn8tylb2bRzXA1tGxNeLtRQ2jIi9VrKd90XEMRFRU/zsEZVFJ6GyqGBbJECacinwuYj4r4joEhFbRcTOTRz3AtA7ItZupp2fAyMjYq+oWD8iPlbck50i4kMR0Y3K+gvzgSWNGyimvPwRGB0R6xVrL3y26pAbqdynoyNirWIKwa5U7t87ZOabwO+prOkwpZguQGb+k8qIme9HxDpRWaTz81TWpQCYBhwUET0iYgsqoz1a1Ir4W/o7t2SFnoPm+t+E9akki+YBRGWh1D4NlRHxqYjoXey+VBxb/ffbkzZ+o01WXoW6wXJ+7ixi6xER2xfP3K5U1h05MzOXFPVdo7Io7FpAl+LvXdOWsUpSWzMxIUnSmusOKgsOVs+Pv7MoW6kPVcVUgP2prHHwPJV5+futZDsHUFmccG7R1g+orMsAleTBrsUw+wkrE+tyrj0F+BxwAfAKlfvUeFQCwG1Uvo1+PiJebKKdqVRGn1xI5cPrU7y9GGc3Kq9rfJFK33oCpzUT0lepDOd/HrgM+FXVNf5N5Zv//wb+TWWKwcGZ+Y54qlwO9OWd0xiGU3nN5VzgT8D3MvOWou4KYDqVBTpvBq6m9ZYXf0t/55aMBi4vnoMjWjq40Fz/l8rMx4DzqYwseqE4/q6qQ/YA7ouI16ks4npSZj5TVT8ZaPLtKB1gUyoJqzeA/6OyXsolVfXHUEmE/YzKWjLzqSTRJGmVFZntOVJSkiRJHSkitqGyQOYWxfSdTmVV6X9EPEllysefMvOzLR3fEYoRPC9QeZ3wuZl5RskhSRJgYkKSJGmNERFdqAzt3ygzGy/YuMbr7P2XpNVVU6tkS5IkaTUTEetT+Tb871ReldmpdPb+S9LqzBETkiRJkiSpNC5+KUmSJEmSSmNiQpIkSZIklcY1JqQOsOmmm2ZtbW3ZYUiSJElSKR544IEXM3OzpupMTEgdoLa2lqlTp5YdhiRJkiSVIiL+3lydUzkkSZIkSVJpHDEhdYC3XpvB7Du2a9M2a/ed1abtSZIkSVIZHDEhSZIkSZJKY2JCkiRJkiSVxsSEJEmSJEkqjYkJSZIkSZJUGhMTkiRJkiSpNCYmJEmSJElSaUxMSKux448/np49e9KnT58m65944gkGDx5Mt27dOO+885aWz5s3jyFDhtCnTx8mTJiwtPzQQw9l7ty57R22JEmSJC1lYkKdWkQcHRHblB3HyjruuOOYNGlSs/U9evRg3LhxnHzyycuUjx8/npEjRzJlyhTGjh0LwMSJExk4cCC9evVqz5AlSZIkaRntlpiIiNdX8PihEXF9sX1IRJzaPpG1rai4LSI2KvYXR8S0qp/aiLh7Bdv8ekSs10zd5IiYWrVfFxGTW2ivNiKObnTOuBWJaWVFxOiIOLnlI5s9/8aI2Lj4+XIrz5kdEXc2KpsWEY80Kvs80DMz/1Hsr9B9iojNIqL5rEAH2GeffejRo0ez9T179mSPPfagpqZmmfKamhrq6+tZsGABXbt2ZdGiRYwdO5ZTTjmlvUOWJEmSpGWskiMmMvO6zDyn7Dha6SBgema+WuzPz8wBVT+zM/MDjU+KiLWW0+bXgSYTE4WeEfHRFYixFlj6gTszp2bmiStwfmky86DMfBnYGGhVYqKwYURsDRARuzTT9qWZObaqqJYVuE+ZOQ94LiI+uAJxrRKOPvporr32Wvbff39OP/10LrroIo455hjWW295j50kSZIktb12T0wUIyEmR8TvI+KJiPhNRERRd2BR9iBweNU5x0XEhcX29hFxb0TMiIgx1SMxIuJbEXF/RDwcEWcUZbUR8XhE/DwiHo2ImyNi3aJuQNHWwxHxp4h4T1E+OSLqiu1NI2J2sb1bREwpvm1/OCJ2bKKLnwaubeEevF51L+6MiOuAxyJi/Yi4ISKmR8QjEXFkRJwI9AJuj4jbm2nyh8CoJq5TW7T/YPHTkBA5B9i76Mc3Go1O6RERE4r+3RsR/Yry0RHxy+LePFPERVMxL6/vjeKbHBE/KO7p3yJi76J86d+72L8+IoYW27MjYtOiD9sXffhhKy53DdAQ23BgfFX7XSPih1XPzhdbcZ/2jbdHwTwUERsW50yg8gysVrp3784NN9zA1KlTGTRoEBMnTmTYsGGMGDGCYcOGcc8995QdoiRJkqROoqNGTAykMgpgV+C9wAcjYh3g58DHgd2BLZo598fAjzOzLzCnoTAiDgB2BPYEBgC7R8Q+RfWOwE8zczfgZeCTRfmvgW9nZj9gBvC9FuIeWVx7AFBXff0qHwQeqNpft+oD7J+aOH4QcFJmvg84EJibmf0zsw8wKTPHAXOB/TJzv2biugd4KyIa1/8L2D8zB1H5UN4wDeFU4M5iBMcFjc45A3iouCenU7lHDXYGPkLlHn8vImqairmZGJuzVmbuSeV5aOn+VzsVeLrow7dacfwfeDvZ9XFgYlXd54FXMnMPYA9gRERsx/Lv08nAV4pnYW9gflE+tdh/h4g4ISKmRsTUf7+yuBUhl+Oss85i1KhRjB8/niFDhnD55ZczevTossOSJEmS1El0VGJiSmbOycwlwDQqQ+Z3BmZl5szMTODKZs4dDPyu2P5tVfkBxc9DwINFew0jGmZl5rRi+wGgNiK6Axtn5h1F+eXAPizfPcDpEfFtYNvMnN/EMT0y87Wq/eqpHJ9o4vgpmTmr2J4B7F+MItg7M19pIZ5qY4D/aVRWA/w8ImZQuWe7tqKdIcAVAJl5G7BJFOtlADdk5oLMfJFK0mPzdxkzwB+L3w9QeQ7ay7+BlyLiKOBxoL6q7gDg2IiYBtwHbMLbz05z7gJ+VIwc2TgzFxXl/6IywuUdMvOSzKzLzLpNundd+Z60o5kzZzJnzhyGDh1KfX09Xbp0ISKYP7+pR12SJEmS2l5HJSYWVG0vBpa3vkJrBfD9qiTADpl56UpebxFv34t1Ggoz87fAIVS+Hb8xIj7U1LkRsSL38Y2q9v9GZQTFDGBMRHy3tY0USYR1gfdXFX8DeAHoT2WEx9orEFdT3nEf303Mjdqs/rtU33+o+hu8S1cDP6VqGkchgK9VPTvbZebNy2uoWPPkC1Tu+V0RsXNVrKV9ih8+fDiDBw/mySefpHfv3lx66aVcfPHFXHzxxQA8//zz9O7dmx/96EeMGTOG3r178+qrry49f9SoUZx99tlL2/rZz37GHnvswUknnVRKfyRJkiR1Pm2RIFhZT1AZybB9Zj5NZR2AptxLZSrG1cBRVeU3AWdFxG8y8/WI2ApY2NzFMvOViHip+Jb/TuAYoGH0xGwq00mmAMMazomI9wLPZOa4qLxSsh9wW6Omn6QyPeWp1nS6WkT0Av6TmVdGxMtUPvgCvAZsCLzYQhNjgIuBZ4r97sCczFwSEZ8FGr6mb2ivKXdSWSPhrGJdhxcz89WoLAPS6pgj4vtURoM0NX2lJbOBLxcJnq2oTB1p7B19iIgnMnPnJo5t8CdgSyrPSvWohpuAL0XEbZm5MCLeBzzb1DWqrrV9Zs4AZkTEHlRG6DwBvA94pKlzOsL48Y1zLsvaYostmDOnqRlIFddcc83S7Z49e3L33Sv0AhlJkiRJetdKS0xk5psRcQJwQ0TUU/mA3NSHwq8DV0bEKCrrGbxSnH9zVN62cE/xIfp14DNUvolvzmeBi6PyKs5ngM8V5ecB1zTEU3X8EcAxEbEQeB743ybavAEYykokJoC+wA8jYgmVpMqXivJLgEkRMXc560yQmTdGxLyqoouAP0TEsVTuVcPojIeBxRExHbiMyvSXBqOBX0bEw1SmO3x2JWPuC1zXwrnNuQuYBTxGZdrFg40PyMx/R8RdUXnl5/8BP6Ay8qFZxRSbHwA0SrT8gso0kgejUjEPOIzl36evF2t6LAEeLWIA2I9lnxlJkiRJ0gqIyvIOq64iiTA/M7NYL2B4Zh5adlwNImJL4NeZuX/ZsZQpIm7KzI904PUOBt5bLBZamoj4C3BoZr60vOP67dQtr7ukyaUoVlrtvrNaPkiSJEmSVgER8UBm1jVVV+ZUjtbaHbiw+Gb7ZeD4csNZVmY+F5VXk26Uma+2fMaaqSOTEsX1ru/I6zUlIjYDftRSUkKSJEmS1LxVPjFRrAfRv+w4liczr2n5KK1pMnMeMKHsOCRJkiRpddZRb+WQJEmSJEl6BxMTkiRJkiSpNCYmJEmSJElSaUxMSJIkSZKk0qzyi19Ka4K1N+xL7b5Tyw5DkiRJklY5jpiQJEmSJEmlMTEhSZIkSZJKY2JCkiRJkiSVxsSEJEmSJEkqjYkJSZIkSZJUGt/KIXWAt16bwew7tis7DEmSJElrqNp9Z5UdwkpzxIQkSZIkSSqNiQlJkiRJklQaExOSJEmSJKk0JiYkSZIkSVJpTExIkiRJkqTSmJiQJEmSJEmlMTEhSZIkSZJKY2JCpYqIxRExrern1JVoY2hEfKCFYyZExL2taKsuIsataAySJEmStKpYvHgxAwcO5OCDDwbgwgsvZIcddiAiePHFF5s975RTTmG33XZjl1124cQTTyQzWbBgAQceeCB9+vThoosuWnrsCSecwIMPPtgm8ZqYUNnmZ+aAqp9zVqKNoUCziYmI2BjYHegeEe9dXkOZOTUzT1yJGCRJkiRplfDjH/+YXXbZZen+Bz/4QW655Ra23XbbZs+5++67ueuuu3j44Yd55JFHuP/++7njjju46aabGDJkCA8//DBXXHEFANOnT2fx4sUMGjSoTeI1MaFVUkR8NyLuj4hHIuKSiIii/MSIeCwiHo6IqyKiFhgJfKMYcbF3E80dDkwErgKOqrrGp4r2p0fEX4qyoRFxfbG9Z0TcExEPRcTdEbFTUX5cRPwxIiZFxMyIOLddb4YkSZIktdKcOXO44YYb+MIXvrC0bODAgdTW1i73vIjgzTff5K233mLBggUsXLiQzTffnJqaGurr61m4cCGZCcB3vvMdzjrrrDaL2cSEyrZuo6kcRxblF2bmHpnZB1gXOLgoPxUYmJn9gJGZORu4GLigGHFxZxPXGA6ML36GV5V/F/hIZvYHDmnivCeAvTNzYHHs/1bVDQCOBPoCR0bE1ivcc0mSJElqY1//+tc599xz6dJlxT7uDx48mP32248tt9ySLbfcko985CPssssu7L///syePZv3v//9nHjiiVx33XUMGjSIXr16tVnMa7VZS9LKmZ+ZA5oo3y8iTgHWA3oAj1IZ9fAw8JuImABMaKnxiNgc2BH4a2ZmRCyMiD6Z+QhwF3BZRFwD/LGJ07sDl0fEjkACNVV1t2bmK8U1HgO2Bf7Z6NonACcA9Nq8a0uhSpIkSdK7cv3119OzZ0923313Jk+evELnPvXUUzz++OPMmTMHgP33358777yTvffem9/+9rcALFy4kI985CNce+21fPOb3+Qf//gHxx57LIcc0tT3vK3niAmtciJiHeAiYFhm9gV+DqxTVH8M+CkwCLg/IlpKrh0BvAeYFRGzgVqKUROZORL4H2Br4IGI2KTRuWcBtxejNj5eFQPAgqrtxTSR5MvMSzKzLjPrNuluYkKSJElS+7rrrru47rrrqK2t5aijjuK2227jM5/5TKvO/dOf/sT73/9+NthgAzbYYAM++tGPcs899yxzzEUXXcSxxx7LvffeS/fu3bn66qs5//zz33XcJia0KmpIALwYERsAwwAioguwdWbeDnybyoiGDYDXgA2baWs4cGBm1mZmLZVFMI8q2ts+M+/LzO8C86gkKKp1B54tto9rg35JkiRJUrv5/ve/z5w5c5g9ezZXXXUVH/rQh7jyyitbde4222zDHXfcwaJFi1i4cCF33HHHMgtovvTSS1x//fUce+yx1NfX06VLFyKC+fPnv+u4TUyobI3XmDgnM1+mMkriEeAm4P7i2K7AlRExA3gIGFccOxH4ROPFL4uFMbcFlr4mNDNnAa9ExF7ADyNiRkQ8AtwNTG8U27nA9yPiIZz2JEmSJGk1NW7cOHr37s2cOXPo16/f0oUxp06dunR72LBhbL/99vTt25f+/fvTv39/Pv7xjy9t48wzz2TUqFF06dKFj3zkI9x555307duXY4455l3HFw2rakpqP/126pbXXdJ2i8NIkiRJUrXafWeVHcJyRcQDmVnXVJ0jJiRJkiRJUmlMTEiSJEmSpNKYmJAkSZIkSaUxMSFJkiRJkkpjYkKSJEmSJJXGxIQkSZIkSSqNiQlJkiRJklSatcoOQOoM1t6wL7X7Ti07DEmSJEla5ThiQpIkSZIklcbEhCRJkiRJKo2JCUmSJEmSVBoTE5IkSZIkqTQmJiRJkiRJUml8K4fUAd56bQaz79iu7DBKUbvvrLJDkCRJkrQKc8SEJEmSJEkqjYkJSZIkSZJUGhMTkiRJkiSpNCYmJEmSJElSaUxMSJIkSZKk0piYkCRJkiRJpTExIUmSJEmSSmNiQlK7e/PNN9lzzz3p378/u+22G9/73vfecczFF19M3759GTBgAEOGDOGxxx4D4K677qJfv37U1dUxc+ZMAF5++WUOOOAAlixZ0qH9kCRJktT2TExojRcRiyNiWkRMj4gHI+IDRXltRDyykm1Ojoi6to10zdWtWzduu+02pk+fzrRp05g0aRL33nvvMsccffTRzJgxg2nTpnHKKafwzW9+E4Dzzz+fG2+8kbFjx3LxxRcDMGbMGE4//XS6dPF/wiRJkqTV3VplByB1gPmZOQAgIj4CfB/Yt9SIOpmIYIMNNgBg4cKFLFy4kIhY5piNNtpo6fYbb7yxtL6mpob6+nrq6+upqanh6aef5p///CdDhw7tsPglSZIktR8TE+psNgJealwYEbXAFcD6RdFXM/Puou7bwGeAJcD/ZeapVed1AX4JzMnM/2nf0FdvixcvZvfdd+epp57iK1/5Cnvttdc7jvnpT3/Kj370I9566y1uu+02AE477TSOPfZY1l13Xa644gpOPvlkxowZ09HhS5IkSWonjoNWZ7BuMZXjCeAXwFlNHPMvYP/MHAQcCYwDiIiPAocCe2Vmf+DcqnPWAn4DzDQp0bKuXbsybdo05syZw5QpU3jkkXfOovnKV77C008/zQ9+8IOlyYcBAwZw7733cvvtt/PMM8+w5ZZbkpkceeSRfOYzn+GFF17o6K5IkiRJakMmJtQZzM/MAZm5M3Ag8OtoPI8AaoCfR8QM4HfArkX5h4FfZWY9QGb+p+qc/wc8kplnN3XRiDghIqZGxNR/v7K4LfuzWtt4443Zb7/9mDRpUrPHHHXUUUyYMGGZssxkzJgxfOc73+GMM87g3HPPZcSIEYwbN66dI5YkSZLUnkxMqFPJzHuATYHNGlV9A3gB6A/UAWu3orm7gf0iYp1mrnVJZtZlZt0m3bu+i6hXf/PmzePll18GYP78+fz5z39m5513XuaYhjduANxwww3suOOOy9T/+te/5qCDDqJHjx7U19fTpUsXunTpQn19fbvHL0mSJKn9uMaEOpWI2BnoCvwbWK+qqjuVdSKWRMRni2MA/gx8NyJ+k5n1EdGjatTEpcA+wDURcXhmLuqgbqx2nnvuOT772c+yePFilixZwhFHHMHBBx/Md7/7Xerq6jjkkEO48MILueWWW6ipqeE973kPl19++dLz6+vrueyyy7j55psB+OY3v8lBBx3E2muvzW9/+9uyuiVJkiSpDURmlh2D1K4iYjEwo2EXOD0zbygWvLw+M/tExI7AH4AEJgFfycwNivNPBY4F3gJuzMzTI2IycHJmTo2IM4D3AZ/OzCVNxdBvp2553SW92q+Tq7DafWeVHYIkSZKkkkXEA5lZ12SdiQmp/ZmYkCRJktSZLS8x4RoTkiRJkiSpNCYmJEmSJElSaUxMSJIkSZKk0piYkCRJkiRJpTExIUmSJEmSSmNiQpIkSZIklcbEhCRJkiRJKs1aZQcgdQZrb9iX2n2nlh2GJEmSJK1yHDEhSZIkSZJKY2JCkiRJkiSVxsSEJEmSJEkqjYkJSZIkSZJUGhMTkiRJkiSpNL6VQ+oAb702g9l3bFd2GFKTavedVXYIkiRJ6sQcMSFJkiRJkkpjYkKSJEmSJJXGxIQkSZIkSSqNiQlJkiRJklQaExOSJEmSJKk0JiYkSZIkSVJpTExIkrjgggvYbbfd6NOnD8OHD+fNN99cpv4f//gH++23HwMHDqRfv37ceOONANx1113069ePuro6Zs6cCcDLL7/MAQccwJIlSzq8H5IkSVr9mJjQUhExKiIejYiHI2JaROy1ku0MjYgPVO1fFhHD2i7Sd1zvuIjotZz6tSJiXkSc04q2RkbEsW0bobRqe/bZZxk3bhxTp07lkUceYfHixVx11VXLHDNmzBiOOOIIHnroIa666iq+/OUvA3D++edz4403MnbsWC6++OKlx55++ul06eL/xUiSJKlla5UdgFYNETEYOBgYlJkLImJTYO2VbG4o8DpwdxuF15LjgEeAuc3U7w/8DfhURJyWmdlcQ5l5cduHJ636Fi1axPz586mpqaG+vp5evZbN9UUEr776KgCvvPLK0vqG4+vr66mpqeHpp5/mn//8J0OHDu3oLkiSJGk15ddZarAl8GJmLgDIzBczcy5ARPxXRDwUETMi4pcR0a0on10kMIiIuoiYHBG1wEjgG8Woi72L9veJiLsj4pnq0RMR8a2IuL8YpXFGVfmEiHigGMFxQlHWtRh98UgRyzeKtuqA3xTXW7eJvg0Hfgz8AxhcdY1zIuKx4trnFWWjI+LkYntEEdv0iPhDRKxXlF8WEeOa6o+0Otpqq604+eST2Wabbdhyyy3p3r07BxxwwDLHjB49miuvvJLevXtz0EEH8ZOf/ASA0047jWOPPZbvf//7fPWrX2XUqFGMGTOmjG5IkiRpNWViQg1uBraOiL9FxEURsS9ARKwDXAYcmZl9qYyy+VJzjWTmbOBi4ILMHJCZdxZVWwJDqIzKOKdo+wBgR2BPYACwe0TsUxx/fGbuTiXpcGJEbFIcs1Vm9ili+VVm/h6YCny6uN786niK+D8MTATGU0lSULT3CWC3zOwHNPVJ6o+ZuUdm9gceBz5fVfeO/kirq5deeolrr72WWbNmMXfuXN544w2uvPLKZY4ZP348xx13HHPmzOHGG2/kmGOOYcmSJQwYMIB7772X22+/nWeeeYYtt9ySzOTII4/kM5/5DC+88EJJvZIkSdLqwsSEAMjM14HdgROAecDVEXEcsBMwKzP/Vhx6ObBPk40s34TMXJKZjwGbF2UHFD8PAQ8CO1NJVEAlGTEduBfYuih/BnhvRPwkIg4EXm3FdQ8Gbi8SFn8ADouIrsArwJvApRFxOFDfxLl9IuLOiJgBfBrYrYX+LCMiToiIqREx9d+vLG5FqFI5brnlFrbbbjs222wzampqOPzww7n77mVnYl166aUcccQRAAwePJg333yTF198cWl9ZjJmzBi+853vcMYZZ3DuuecyYsQIxo0b16F9kSRJ0urHxISWyszFmTk5M78HfBX4ZAunLOLtZ2idFo5dULUdVb+/X4x0GJCZO2TmpRExlMooh8HFaIWHgHUy8yWgPzCZynSRX7SiW8OBD0fEbOABYBPgQ5m5iMpIjd9TSV5MauLcy4CvFqMzzmjUx6b6s4zMvCQz6zKzbpPuXVsRqlSObbbZhnvvvZf6+noyk1tvvZVddtnlHcfceuutADz++OO8+eabbLbZZkvrf/3rX3PQQQfRo0cP6uvr6dKlC126dKG+vqmcnyRJkvQ2F78UABGxE7AkM2cWRQOAvwNPArURsUNmPgUcA9xRHDObyiiL/2PZJMZrwEatuOxNwFkR8ZvMfD0itgIWAt2BlzKzPiJ2Bt5fxLgp8FZm/iEingQaxpq/BmzYRJ82AvYGtm5YOyMiPgcMj4h7gPUy88aIuIvKaIzGNgSei4gaKiMmnm1Fn6TVzl577cWwYcMYNGgQa621FgMHDuSEE07gu9/9LnV1dRxyyCGcf/75jBgxggsuuICI4LLLLiOikpOrr6/nsssu4+abbwbgm9/8JgcddBBrr702v/3tb8vsmiRJklYDsZwXFKgTiYjdgZ8AG1MZCfEUcEJmvhgR/wWcRyWRdT/wpeLNHXsDl1KZUjEZqMvMoRHxPiojEZYAX6OyNsP1xXoQRMTrmblBsX0S8IUijNeBzwBzgAlALZXEyMbAaOAl4Fe8PUrjtMz8v4j4JPC/wHwqoyzmF21/FvhoZh5V1c8eRZt1wO+ojIII4LzMvDwiRgOvZ+Z5EfEl4BQqU1vuAzbMzOMi4rLm+tOcfjt1y+suafaNplKpavedVXYIkiRJWsNFxAOZWddknYkJqf2ZmNCqzMSEJEmS2tvyEhOuMSFJkiRJkkpjYkKSJEmSJJXGxIQkSZIkSSqNiQlJkiRJklQaExOSJEmSJKk0rUpMRMTXIuI97R2MJEmSJEnqXFo7YmJz4P6IuCYiDoyIaM+gJEmSJElS5xCZ2boDK8mIA4DPAXXANcClmfl0+4UnrRnq6upy6tSpZYchSZIkSaWIiAcys66pulavMZGVDMbzxc8i4D3A7yPi3DaJUpIkSZIkdTprteagiDgJOBZ4EfgF8K3MXBgRXYCZwCntF6IkSZIkSVpTtSoxAfQADs/Mv1cXZuaSiDi47cOSJEmSJEmdQWuncry3cVIiIq4AyMzH2zwqSZIkSZLUKbQ2MbFb9U5EdAV2b/twJEmSJElSZ7LcqRwRcRpwOrBuRLzaUAy8BVzSzrFJa4y3XpvB7Du2KzsMSZIkvQu1+84qOwRpjbTcEROZ+f3M3BD4YWZuVPxsmJmbZOZpHRSjJEmSJElaQ7U0YmLnzHwC+F1EDGpcn5kPtltkkiRJkiRpjdfSWzm+CZwAnN9EXQIfavOIJEmSJElSp7HcxERmnlD83q9jwpEkSZIkSZ1Jq97KERFfiYiNq/bfExFfbreoJEmSJElSp9Da14WOyMyXG3Yy8yVgRLtEJEmSJEmSOo3WJia6RkQ07EREV2Dt9glJkiRJklZNb775JnvuuSf9+/dnt91243vf+x4An//85+nfvz/9+vVj2LBhvP76602e//3vf58ddtiBnXbaiZtuugmAefPmMWTIEPr06cOECROWHnvooYcyd+7cdu+TVLbWJiYmAVdHxH9FxH8B44syabkiYlREPBoRD0fEtIjYayXbGRoRH6javywihrXy3MMiIiNi51Yce2P1tCVJkiSpWrdu3bjtttuYPn0606ZNY9KkSdx7771ccMEFTJ8+nYcffphtttmGCy+88B3nPvbYY1x11VU8+uijTJo0iS9/+cssXryY8ePHM3LkSKZMmcLYsWMBmDhxIgMHDqRXr14d3EOp47X0Vo4G3wa+CHyp2P8z8It2iUhrjIgYDBwMDMrMBRGxKSs/0mYo8Dpw90qcOxz4a/H7e8s7MDMPWon2JUmS1ElEBBtssAEACxcuZOHChUQEG220EQCZyfz586kacL7Utddey1FHHUW3bt3Ybrvt2GGHHZgyZQo1NTXU19ezYMECunbtyqJFixg7diwTJ07s0L5JZWnViInMXJKZP8vMYcXP/8vMxe0dnFZ7WwIvZuYCgMx8MTPnAhSjbx6KiBkR8cuI6FaUzy4SGEREXURMjohaYCTwjWLUxd5F+/tExN0R8UxzoyciYgNgCPB54Kiq8i0j4i9Fe480tNno+hMi4oFixMcJVee+HhFnR8T0iLg3IjZvy5smSZKkVdvixYsZMGAAPXv2ZP/992evvSqDgj/3uc+xxRZb8MQTT/C1r33tHec9++yzbL311kv3e/fuzbPPPsvRRx/Ntddey/7778/pp5/ORRddxDHHHMN6663XYX2SyrTcxEREXFP8nlEMxV/mp2NC1GrsZmDriPhbRFwUEfsCRMQ6wGXAkZnZl8rInS8110hmzgYuBi7IzAGZeWdRtSWVpMPBwDnNnH4oMCkz/wb8OyJ2L8qPBm7KzAFAf2BaE+cen5m7A3XAiRGxSVG+PnBvZvYH/oILwUqSJHUqXbt2Zdq0acyZM4cpU6bwyCOPAPCrX/2KuXPnsssuu3D11Ve3ur3u3btzww03MHXqVAYNGsTEiRMZNmwYI0aMYNiwYdxzzz3t1RVpldDSiImTit8HAx9v4kdqVma+DuwOnADMo7JOyXHATsCsIlkAcDmwz0pcYkIxmucxoLlRC8OBq4rtq4p9gPuBz0XEaKBvZr7WxLknRsR04F5ga2DHovwt4Ppi+wGgtqkLR8QJETE1Iqb++xUHGEmSJK1pNt54Y/bbbz8mTXp7+b2uXbty1FFH8Yc//OEdx2+11Vb885//XLo/Z84cttpqq2WOOeussxg1ahTjx49nyJAhXH755YwePbrd+iCtCpabmMjM54rff2/qp2NC1OosMxdn5uTM/B7wVeCTLZyyiLefy3VaOHZB1fY7JvFFRA/gQ8AvImI28C3giIiIzPwLlWTIs8BlEXFso3OHAh8GBhcjIx6qimdhZmaxvZhm1mrJzEsysy4z6zbp3rWFrkiSJGl1MG/ePF5++WUA5s+fz5///Gd22mknnnrqKaCyxsR1113Hzju/c931Qw45hKuuuooFCxYwa9YsZs6cyZ577rm0fubMmcyZM4ehQ4dSX19Ply5diAjmz5/fIX2TytKqxS8j4nDgB0BPKh8AA8jM3KgdY9NqLiJ2ApZk5syiaADwd+BJoDYidsjMp4BjgDuKY2ZTGWXxfyybxHgNWNHnbRhwRWZ+sSqmO4C9I+LvwJzM/HmxvsUg4NdV53YHXsrM+uJtHu9fwWtLkiRpDfTcc8/x2c9+lsWLF7NkyRKOOOIIPvaxj7H33nvz6quvkpn079+fn/3sZwBcd911TJ06lTPPPJPddtuNI444gl133ZW11lqLn/70p3Tt+vYXWKNGjeLss88GYPjw4Rx22GGcc845nHnmmaX0Veoo8fYXv8s5KOIp4OOZ+Xj7h6Q1RbGew0+AjamMhHgKOCEzXyxeO3seleTY/cCXijd37A1cCrwKTAbqMnNoRLwP+D2wBPgalcUsr8/M3xfXej0zN2h0/duBH2TmpKqyE4FdqEzP+BawkMrbPo7NzFnFyIo6KomQCVSmaTxZ9GF0Zk6uvlax6ObBmXnc8u5Fv5265XWX+KonSZKk1VntvrPKDkFabUXEA5lZ12RdKxMTd2XmB9s8MqmTMDEhSZK0+jMxIa285SUmWjWVA5gaEVdT+QZ56bz+zPzjuw9PkiRJkiR1Vq1NTGwE1AMHVJUlYGJCkiRJkiSttFYlJjLzc+0diCRJkiRJ6nxa+1aOzYARVBYCXHpOZh7fPmFJkiRJkqTOoLVTOa4F7gRuARa3XziSJEmSJKkzaW1iYr3M/Ha7RiJJkiRJkjqdLq087vqIOKhdI5EkSZIkSZ3OckdMRMRrVN6+EcDpEbEAWFjsZ2Zu1P4hSqu/tTfsS+2+U8sOQ5IkSZJWOctNTGTmhh0ViCRJkiRJ6nxaNZUjIm5tTZkkSZIkSdKKaGkqxzrA+sCmEfEeKlM4ADYCtmrn2CRJkiRJ0hqupbdyfBH4OtALeLCq/FXgwnaKSZIkSZIkdRItrTHxY+DHEfG1zPxJB8UkSZIkSZI6iZamcpySmedm5k8i4lOZ+buquv/NzNPbP0Rp9ffWazOYfcd2ZYchSaud2n1nlR2CJElqZy0tfnlU1fZpjeoObONYJEmSJElSJ9NSYiKa2W5qX5IkSZIkaYW0lJjIZrab2pckSZIkSVohLb2Vo39EvEpldMS6xTbF/jrtGpkkSZIkSVrjtfRWjq4dFYgkSZIkSep8WprKIUmSJEmS1G5MTEiSpFXa8ccfT8+ePenTp8/SsiOPPJIBAwYwYMAAamtrGTBgQJPnvvzyywwbNoydd96ZXXbZhXvuuQeAb3/72/Tr149jjz126bFXXnklY8eObc+uSJKkJpiY0ConIhZHxLSqn1PLjkmSVJ7jjjuOSZMmLVN29dVXM23aNKZNm8YnP/lJDj/88CbPPemkkzjwwAN54oknmD59OrvssguvvPIKDz74IA8//DBrr702M2bMYP78+fzqV7/iK1/5Skd0SZIkVWlp8UupDPMzc8DKnBgRa2XmojaOR5JUon322YfZs2c3WZeZXHPNNdx2223vqHvllVf4y1/+wmWXXQbA2muvzdprr81rr73GwoULyUzq6+upqanhvPPO42tf+xo1NTXt2BNJktQUR0xotRERsyNi02K7LiImF9ujI+KKiLgLuCIiaiPitoh4OCJujYhtiuMui4iLI2JqRPwtIg4uyrtGxA8j4v7inC8W5RsU5z8YETMi4tCivDYiHo+In0fEoxFxc0SsW8Y9kaTO7s4772TzzTdnxx13fEfdrFmz2Gyzzfjc5z7HwIED+cIXvsAbb7zBhhtuyEEHHcTAgQPZcsst6d69O/fddx+HHXZYx3dAkiSZmNAqad1GUzmObMU5uwIfzszhwE+AyzOzH/AbYFzVcbXAnsDHgIsjYh3g88ArmbkHsAcwIiK2A94EPpGZg4D9gPMjIop2dgR+mpm7AS8Dn3x3XZYkrYzx48czfPjwJusWLVrEgw8+yJe+9CUeeugh1l9/fc455xwATjnlFKZNm8b555/Pd77zHc4880x+8YtfcMQRRzBmzJiO7IIkSZ2eiQmtiuZn5oCqn6tbcc51mTm/2B4M/LbYvgIYUnXcNZm5JDNnAs8AOwMHAMdGxDTgPmATKomHAP43Ih4GbgG2AjYv2pmVmdOK7QeoJDyWEREnFKMzpv77lcWt6bckaQUsWrSIP/7xjxx5ZNP56969e9O7d2/22msvAIYNG8aDDz64zDEPPfQQmclOO+3E7373O6655hqefvppZs6c2e7xS5KkCteY0OpkEW8n09ZpVPdGK9vIJvYD+Fpm3lRdERHHAZsBu2fmwoiYXXXdBVWHLgbeMZUjMy8BLgHot1O3xteVJL1Lt9xyCzvvvDO9e/dusn6LLbZg66235sknn2SnnXbi1ltvZdddd13mmO985ztccsklLFy4kMWLK0nkLl26UF9f3+7xS5KkCkdMaHUyG9i92F7e1Im7gaOK7U8Dd1bVfSoiukTE9sB7gSeBm4AvRUQNQES8LyLWB7oD/yqSEvsB27ZZTyRJrTZ8+HAGDx7Mk08+Se/evbn00ksBuOqqq94xjWPu3LkcdNBBS/d/8pOf8OlPf5p+/foxbdo0Tj/99KV1EyZMoK6ujl69erHxxhszYMAA+vbty5tvvkn//v07pnOSJInI9ItcrVoiYjEwo6poUmaeGhF7A5cCrwKTgbrMHBoRo4HXM/O84vxtgV8BmwLzgM9l5j8i4jIq60bUARsB38zM6yOiCzAG+DiV0RPzgMOAGmAisAEwFXg/8NEipuszs09xvZOBDTJzdHN96rdTt7zukl7v4q5IUudUu++sskOQJEltICIeyMy6JutMTKizKBIT12fm7zv62iYmJGnlmJiQJGnNsLzEhFM5JEmSJElSaVz8Up1GZh5XdgySJEmSpGU5YkKSJEmSJJXGxIQkSZIkSSqNiQlJkiRJklQaExOSJEmSJKk0JiYkSZIkSVJpfCuH1AHW3rAvtftOLTsMSZIkSVrlOGJCkiRJkiSVxsSEJEmSJEkqjYkJSZIkSZJUGhMTkiRJkiSpNCYmJEmSJElSaXwrh9QB3nptBrPv2K5N26zdd1abtidJkiRJZXDEhCRJkiRJKo2JCUmSJEmSVBoTE5IkSZIkqTQmJiRJkiRJUmlMTEiSJEmSpNKYmJAkSZIkSaUxMSGtxo4//nh69uxJnz59mqx/4oknGDx4MN26deO8885bWj5v3jyGDBlCnz59mDBhwtLyQw89lLlz57Z32JIkSZK0lIkJaTV23HHHMWnSpGbre/Towbhx4zj55JOXKR8/fjwjR45kypQpjB07FoCJEycycOBAevXq1Z4hS5IkSdIyTEyoU4qIwyIiI2LnlTj39faIaWXss88+9OjRo9n6nj17sscee1BTU7NMeU1NDfX19SxYsICuXbuyaNEixo4dyymnnNLeIUuSJEnSMkxMqLMaDvy1+L2MiFir48PpWEcffTTXXnst+++/P6effjoXXXQRxxxzDOutt17ZoUmSJEnqZExMqNOJiA2AIcDngaOKsqERcWdEXAc8VpRNiIgHIuLRiDihURsXFOW3RsRmHd2Hd6t79+7ccMMNTJ06lUGDBjFx4kSGDRvGiBEjGDZsGPfcc0/ZIUqSJEnqJExMqDM6FJiUmX8D/h0Ruxflg4CTMvN9xf7xmbk7UAecGBGbFOXrA1MzczfgDuB7TV0kIk6IiKkRMfXfryxut868W2eddRajRo1i/PjxDBkyhMsvv5zRo0eXHZYkSZKkTsLEhDqj4cBVxfZVvD2dY0pmzqo67sSImA7cC2wN7FiULwGuLravpDL64h0y85LMrMvMuk26d23L+NvMzJkzmTNnDkOHDqW+vp4uXboQEcyfP7/s0CRJkiR1Emv8XHqpWkT0AD4E9I2IBLoCCdwAvFF13FDgw8DgzKyPiMnAOs00m+0Y8nINHz6cyZMn8+KLL9K7d2/OOOMMFi5cCMDIkSN5/vnnqaur49VXX6VLly6MHTuWxx57jI022giAUaNGcfbZZy9t67DDDuOcc87hzDPPLKtLkiRJkjoZExPqbIYBV2TmFxsKIuIOYO9Gx3UHXiqSEjsD76+q61K0cxVwNJVFNEsxfvz45dZvscUWzJkzp9n6a665Zul2z549ufvuu9ssNkmSJElqDadyqLMZDvypUdkfeOfbOSYBa0XE48A5VKZzNHgD2DMiHqEy+sLhBZIkSZK0khwxoU4lM/dromwcMK5R2QLgo820sUH7RCdJkiRJnY8jJiRJkiRJUmlMTEiSJEmSpNKYmJAkSZIkSaUxMSFJkiRJkkpjYkKSJEmSJJXGxIQkSZIkSSqNrwuVOsDaG/aldt+pZYchSZIkSascR0xIkiRJkqTSmJiQJEmSJEmlMTEhSZIkSZJKY2JCkiRJkiSVxsSEJEmSJEkqjW/lkDrAW6/NYPYd27Vpm7X7zmrT9iRJkiSpDI6YkCRJkiRJpTExIUmSJEmSSmNiQpIkSZIklcbEhCRJkiRJKo2JCUmSJEmSVBoTE5IkSZIkqTQmJiRJkiRJUmlMTEirseOPP56ePXvSp0+fJuufeOIJBg8eTLdu3TjvvPOWls+bN48hQ4bQp08fJkyYsLT80EMPZe7cue0dtiRJkiQtZWJCq5yI2CIiroqIpyPigYi4MSLe147Xe7343Ssift9e12kPxx13HJMmTWq2vkePHowbN46TTz55mfLx48czcuRIpkyZwtixYwGYOHEiAwcOpFevXu0ZsiRJkiQtw8SEVikREcCfgMmZuX1m7g6cBmze3tfOzLmZOay9r9OW9tlnH3r06NFsfc+ePdljjz2oqalZprympob6+noWLFhA165dWbRoEWPHjuWUU05p75AlSZIkaRkmJrSq2Q9YmJkXNxRk5nTgoYi4NSIejIgZEXEoQETURsTjEfHziHg0Im6OiHWLuhERcX9ETI+IP0TEekX5dhFxT9HOmIbrFG09UrV9Z3G9ByPiA0X50IiYHBG/j4gnIuI3RTJltXL00Udz7bXXsv/++3P66adz0UUXccwxx7DeeuuVHZokSZKkTsbEhFY1fYAHmih/E/hEZg6ikrw4vyohsCPw08zcDXgZ+GRR/sfM3CMz+wOPA58vyn8M/Cwz+wLPNRPHv4D9i+sdCYyrqhsIfB3YFXgv8MEV7WTZunfvzg033MDUqVMZNGgQEydOZNiwYYwYMYJhw4Zxzz33lB2iJEmSpE7CxIRWFwH8b0Q8DNwCbMXb0ztmZea0YvsBoLbY7lOMepgBfBrYrSj/IDC+2L6imevVAD8vzv0dlSREgymZOSczlwDTqq63bMARJ0TE1IiY+u9XFre2nx3urLPOYtSoUYwfP54hQ4Zw+eWXM3r06LLDkiRJktRJmJjQquZRYPcmyj8NbAbsnpkDgBeAdYq6BVXHLQbWKrYvA75ajIw4o+p4gGwhjm8U1+gP1AFrV9U1d71lZOYlmVmXmXWbdO/awuXKMXPmTObMmcPQoUOpr6+nS5cuRATz588vOzRJkiRJnYSJCa1qbgO6RcQJDQUR0Q/YFvhXZi6MiP2K/ZZsCDwXETVUEhsN7gKOKrY//Y6zKroDzxWjIo4BVsnMwvDhwxk8eDBPPvkkvXv35tJLL+Xiiy/m4osrS3Q8//zz9O7dmx/96EeMGTOG3r178+qrry49f9SoUZx99tlL2/rZz37GHnvswUknnVRKfyRJkiR1Pk1+0yuVJTMzIj4BjI2Ib1NZW2I2MBoYV0ytmAo80YrmvgPcB8wrfm9YlJ8E/LZo/9pmzr0I+ENEHAtMAt5YqQ61s/Hjxy+3fosttmDOnDnN1l9zzTVLt3v27Mndd9/dZrFJkiRJUmtEZksj2iW9W/126pbXXdKrTdus3XdWm7YnSZIkSe0lIh7IzLqm6pzKIUmSJEmSSmNiQpIkSZIklcbEhCRJkiRJKo2JCUmSJEmSVBoTE5IkSZIkqTQmJiRJkiRJUmlMTEiSJEmSpNKsVXYAUmew9oZ9qd13atlhSJIkSdIqxxETkiRJkiSpNCYmJEmSJElSaUxMSJIkSZKk0piYkCRJkiRJpTExIUmSJEmSSuNbOaQO8NZrM5h9x3Zt2mbtvrPatD1JkiRJKoMjJiRJkiRJUmlMTEiSJEmSpNKYmJAkSZIkSaUxMSFJkiRJkkpjYkKSJEmSJJXGxIQkSZIkSSqNiQlpNXb88cfTs2dP+vTp02T9E088weDBg+nWrRvnnXfe0vJ58+YxZMgQ+vTpw4QJE5aWH3roocydO7e9w5YkSZKkpUxMaLki4vUVOHZoRHygan9kRBy7Etf8ekS8GRHdV/TcFbjGIRFxanu131GOO+44Jk2a1Gx9jx49GDduHCeffPIy5ePHj2fkyJFMmTKFsWPHAjBx4kQGDhxIr1692jNkSZIkSVqGiQm1paHA0sREZl6cmb9eiXaGA/cDh7dRXMuIiLUy87rMPKc92u9I++yzDz169Gi2vmfPnuyxxx7U1NQsU15TU0N9fT0LFiyga9euLFq0iLFjx3LKKae0d8iSJEmStAwTE1phEfHxiLgvIh6KiFsiYvOIqAVGAt+IiGkRsXdEjI6Ik4tzJkfEDyJiSkT8LSL2bqbt7YENgP+hkqBoKD8uIiZExJ8jYnZEfDUivlnEcG9E9Gg4PyImRcQDEXFnROxclF8WERdHxH3AuUV7FxZ1m0fEnyJievHzgaJ8QtHOoxFxQlUsr0fE2cWx90bE5u1wm9vV0UcfzbXXXsv+++/P6aefzkUXXcQxxxzDeuutV3ZokiRJkjoZExNaGX8F3p+ZA4GrgFMyczZwMXBBZg7IzDubOG+tzNwT+DrwvWbaPqpo805gp0Yf+vtQGUWxB3A2UF/EcA/QMGXkEuBrmbk7cDJwUdX5vYEPZOY3G11zHHBHZvYHBgGPFuXHF+3UASdGxCZF+frAvcXxfwFGNNOXVVb37t254YYbmDp1KoMGDWLixIkMGzaMESNGMGzYMO65556yQ5QkSZLUSaxVdgBaLfUGro6ILYG1gVmtPO+Pxe8HgNpmjhkOfCIzl0TEH4BPARcWdbdn5mvAaxHxCjCxKJ8B9IuIDahMJfldRDS0162q7d9l5uImrvkhisRGUf9KUX5iRHyi2N4a2BH4N/AWcH1VX/ZvqiPFKIsTAHpt3rWZ7pbvrLPOYtSoUYwfP54hQ4YwbNgwDj/8cG666aayQ5MkSZLUCThiQivjJ8CFmdkX+CKwTivPW1D8XkwTSbGI6Evlw/+fI2I2ldETw6sOWVC1vaRqf0nRXhfg5WLERsPPLlXnvNHKOImIocCHgcHFyIiHeLufCzMzl9cXgMy8JDPrMrNuk+6rZmJi5syZzJkzh6FDh1JfX0+XLl2ICObPn192aJIkSZI6CUdMaGV0B54ttj9bVf4asNG7aHc4MDozv99QEBGzImLb1pycma8Wx38qM38XlWET/TJzegun3gp8CRgbEV2prHHRHXgpM+uLdSrev1I9amfDhw9n8uTJvPjii/Tu3ZszzjiDhQsXAjBy5Eief/556urqePXVV+nSpQtjx47lscceY6ONKn+mUaNGcfbZZy9t67DDDuOcc87hzDPPLK1PkiRJkjoXExNqyXoRMadq/0fAaCrTJV4CbgO2K+omAr+PiEOBr63EtY4CDmpU9qei/IVWtvFp4GcR8T9ADZX1KlpKTJwEXBIRn6cyAuJLwCRgZEQ8DjwJ3NvK63eo8ePHL7d+iy22YM6cOc3WX3PNNUu3e/bsyd13391msUmSJElSa8TbI9IltZd+O3XL6y7p1aZt1u7b2qU9JEmSJKlcEfFAZtY1VecaE5IkSZIkqTQmJiRJkiRJUmlMTEiSJEmSpNKYmJAkSZIkSaUxMSFJkiRJkkpjYkKSJEmSJJXGxIQkSZIkSSrNWmUHIHUGa2/Yl9p9p5YdhiRJkiStchwxIUmSJEmSSmNiQpIkSZIklSYys+wYpDVeRLwGPFl2HJ3UpsCLZQfRiXn/y+O9L5f3vzze+3J5/8vjvS+X979l22bmZk1VuMaE1DGezMy6soPojCJiqve+PN7/8njvy+X9L4/3vlze//J478vl/X93nMohSZIkSZJKY2JCkiRJkiSVxsSE1DEuKTuATsx7Xy7vf3m89+Xy/pfHe18u7395vPfl8v6/Cy5+KUmSJEmSSuOICUmSJEmSVBoTE1I7iogDI+LJiHgqIk4tO57OJiJmR8SMiJgWEVPLjmdNFxG/jIh/RcQjVWU9IuLPETGz+P2eMmNcUzVz70dHxLPF8z8tIg4qM8Y1VURsHRG3R8RjEfFoRJxUlPvsd4Dl3H+f/3YWEetExJSImF7c+zOK8u0i4r7i3z5XR8TaZce6JlrO/b8sImZVPfsDSg51jRURXSPioYi4vtj32X8XTExI7SQiugI/BT4K7AoMj4hdy42qU9ovMwf4+qYOcRlwYKOyU4FbM3NH4NZiX23vMt557wEuKJ7/AZl5YwfH1FksAv47M3cF3g98pfjfep/9jtHc/Qef//a2APhQZvYHBgAHRsT7gR9Qufc7AC8Bny8vxDVac/cf4FtVz/60sgLsBE4CHq/a99l/F0xMSO1nT+CpzHwmM98CrgIOLTkmqd1k5l+A/zQqPhS4vNi+HDisI2PqLJq59+oAmflcZj5YbL9G5R+pW+Gz3yGWc//VzrLi9WK3pvhJ4EPA74tyn/12spz7rw4QEb2BjwG/KPYDn/13xcSE1H62Av5ZtT8H/7HU0RK4OSIeiIgTyg6mk9o8M58rtp8HNi8zmE7oqxHxcDHVw6kE7SwiaoGBwH347He4RvcffP7bXTGUfRrwL+DPwNPAy5m5qDjEf/u0o8b3PzMbnv2zi2f/gojoVl6Ea7SxwCnAkmJ/E3z23xUTE5LWZEMycxCV6TRfiYh9yg6oM8vKa6D8Nqfj/AzYnsoQ3+eA80uNZg0XERsAfwC+npmvVtf57Le/Ju6/z38HyMzFmTkA6E1lpOjO5UbUuTS+/xHRBziNyt9hD6AH8O3yIlwzRcTBwL8y84GyY1mTmJiQ2s+zwNZV+72LMnWQzHy2+P0v4E9U/tGkjvVCRGwJUPz+V8nxdBqZ+ULxj9YlwM/x+W83EVFD5UPxbzLzj0Wxz34Haer++/x3rMx8GbgdGAxsHBFrFVX+26cDVN3/A4vpTZmZC4Bf4bPfHj4IHBIRs6lM1f4Q8GN89t8VExNS+7kf2LFYoXdt4CjgupJj6jQiYv2I2LBhGzgAeGT5Z6kdXAd8ttj+LHBtibF0Kg0figufwOe/XRTzii8FHs/MH1VV+ex3gObuv89/+4uIzSJi42J7XWB/Kmt83A4MKw7z2W8nzdz/J6oSokFljQOf/TaWmadlZu/MrKXy7/vbMvPT+Oy/K1EZXSipPRSvJxsLdAV+mZlnlxtR5xER76UySgJgLeC33v/2FRHjgaHApsALwPeACcA1wDbA34EjMtNFGttYM/d+KJVh7AnMBr5YteaB2khEDAHuBGbw9lzj06msc+Cz386Wc/+H4/PfriKiH5UF/rpS+bLzmsw8s/j/36uoTCN4CPhM8e292tBy7v9twGZAANOAkVWLZKqNRcRQ4OTMPNhn/90xMSFJkiRJkkrjVA5JkiRJklQaExOSJEmSJKk0JiYkSZIkSVJpTExIkiRJkqTSmJiQJEmSJEmlMTEhSZI6pYjIiDi/av/kiBjdRm1fFhHDWj7yXV/nUxHxeETc3qi8NiLmR8S0iHgsIn4dETXtHU9rRcTQiLj+XZx/elvGI0kql4kJSZLUWS0ADo+ITcsOpFpErLUCh38eGJGZ+zVR93RmDgD6Ar2BI9ogvFWFiQlJWoOYmJAkSZ3VIuAS4BuNKxqPeIiI14vfQyPijoi4NiKeiYhzIuLTETElImZExPZVzXw4IqZGxN8i4uDi/K4R8cOIuD8iHo6IL1a1e2dEXAc81kQ8w4v2H4mIHxRl3wWGAJdGxA+b62RmLgamAFsV5+1e9OGBiLgpIrYsyk8sRlc8HBFXFWWjI+KKiLgnImZGxIiiPIp+PFLEdWRVPyZHxO8j4omI+E1ERFF3YFH2IHB4Vd/Wj4hfFvfwoYg4tCg/LiL+GBGTimufW5SfA6xbjAb5TXH+DRExvYjnyOb/5JKkVdGKZOQlSZLWND8FHm740NtK/YFdgP8AzwC/yMw9I+Ik4GvA14vjaoE9ge2B2yNiB+BY4JXM3CMiugF3RcTNxfGDgD6ZOav6YhHRC/gBsDvwEnBzRByWmWdGxIeAkzNzanPBRsQ6wF7AScV0jp8Ah2bmvOJD/NnA8cCpwHaZuSAiNq5qoh/wfmB94KGIuAEYDAwo7sWmwP0R8Zfi+IHAbsBc4C7ggxExFfg58CHgKeDqqvZHAbdl5vHFdadExC1F3YCivQXAkxHxk8w8NSK+WowGISI+CczNzI8V+92buxeSpFWTIyYkSVKnlZmvAr8GTlyB0+7PzOcycwHwNNCQWJhBJRnR4JrMXJKZM6kkMHYGDgCOjYhpwH3AJsCOxfFTGiclCnsAkzNzXmYuAn4D7NOKOLcvrvMC8FxmPgzsBPQB/lzU/Q+VaR4ADwO/iYjPUBlN0uDazJyfmS8Ct1NJtgwBxmfm4sx8AbijiLOhH3MycwkwrbgnOwOzMnNmZiZwZVX7BwCnFvFMBtYBtinqbs3MVzLzTSojSbZtop8zgP0j4gcRsXdmvtKKeyNJWoU4YkKSJHV2Y4EHgV9VlS2i+AInIroAa1fVLajaXlK1v4Rl/22Vja6TQABfy8ybqisiYijwxsoEvxxPZ+aAYg2NuyLiEGAW8GhmDm7i+I9RSXh8HBgVEX2r4q7WeL+x6vuzmJb/vRnAJzPzyWUKI/ZqTVuZ+beIGAQcBIyJiFsz88wWrilJWoU4YkKSJHVqmfkf4BoqC0k2mE1l6gTAIcDKvNHiUxHRpVh34r3Ak8BNwJca3pAREe+LiPVbaGcKsG9EbBoRXYHhVEYotEox0uFU4LQihs0iYnBx/ZqI2K1IvmydmbcD3wa6AxsUTRwaEetExCbAUOB+4E7gyGLNjM2oJDSmLCeMJ4DaqjU4hlfV3QR8rWotioGt6NbCqnvYC6jPzCuBH1KZEiNJWo04YkKSJAnOB75atf9z4NqImA5MYuVGM/yDyof1jYCRmflmRPyCytSGB4sP4vOAw5bXSGY+FxGnUplGEcANmXntCsYyARhNZa2JYcC4Yi2GtaiMGPkbcGVRFsC4zHy5yBU8XFx7U+CszJwbEX+iss7EdCojKE7JzOcjYudm+vBmRJwA3BAR9VQSGxsW1WcVMTxcJEhmAQe30J9LiuMfpDIV54cRsQRYCHxpBe6LJGkVEJVpfpIkSdKyImI08Hpmnld2LJKkNZdTOSRJkiRJUmkcMSFJkiRJkkrjiAlJkiRJklQaExOSJEmSJKk0JiYkSZIkSVJpTExIkiRJkqTSmJiQJEmSJEmlMTEhSZIkSZJK8/8B1EtjXdZ3tbIAAAAASUVORK5CYII=\n"
          },
          "metadata": {
            "needs_background": "light"
          }
        }
      ]
    }
  ]
}

{
  "nbformat": 4,
  "nbformat_minor": 0,
  "metadata": {
    "colab": {
      "name": "parents_in_stem.ipynb",
      "provenance": []
    },
    "kernelspec": {
      "name": "python3",
      "display_name": "Python 3"
    },
    "language_info": {
      "name": "python"
    }
  },
  "cells": [
    {
      "cell_type": "code",
      "execution_count": null,
      "metadata": {
        "id": "L5b5kVqfjxQw"
      },
      "outputs": [],
      "source": [
        "# Import dependecies \n",
        "\n",
        "import pandas as pd\n",
        "import matplotlib.pyplot as plt"
      ]
    },
    {
      "cell_type": "code",
      "source": [
        "# Import data\n",
        "\n",
        "data = pd.read_csv('unordered_demographics.csv')\n",
        "\n",
        "# Identify column of interest and rename it\n",
        "\n",
        "column = ['Were either of your parents in STEM?']\n",
        "relevant_data = data[column].dropna().rename(columns={'Were either of your parents in STEM?': 'parents_in_stem'})"
      ],
      "metadata": {
        "id": "ULz7AdETj4Hc"
      },
      "execution_count": null,
      "outputs": []
    },
    {
      "cell_type": "code",
      "source": [
        "# Generate distribution\n",
        "\n",
        "distribution = relevant_data.groupby('parents_in_stem')['parents_in_stem'].count()\n",
        "distribution"
      ],
      "metadata": {
        "colab": {
          "base_uri": "https://localhost:8080/"
        },
        "id": "J4_E05Auj5nI",
        "outputId": "19e44fd0-14ff-4981-ad10-014dd6983010"
      },
      "execution_count": null,
      "outputs": [
        {
          "output_type": "execute_result",
          "data": {
            "text/plain": [
              "parents_in_stem\n",
              "No     37\n",
              "Yes    55\n",
              "Name: parents_in_stem, dtype: int64"
            ]
          },
          "metadata": {},
          "execution_count": 3
        }
      ]
    },
    {
      "cell_type": "code",
      "source": [
        "# Plot graph with appropriate title, color palette, and data\n",
        "\n",
        "plt.title(\"Were either of your parents in STEM? [n=92]\")\n",
        "labels=['No', 'Yes']\n",
        "colors = [\"#FEE71C\", \"#FFF073\"]\n",
        "plt.pie(distribution, autopct='%.1f%%', labels=labels, colors=colors)"
      ],
      "metadata": {
        "colab": {
          "base_uri": "https://localhost:8080/",
          "height": 368
        },
        "id": "L_M9myKgj6-9",
        "outputId": "6628697f-b58b-4005-e432-fdc342d4a2b4"
      },
      "execution_count": null,
      "outputs": [
        {
          "output_type": "execute_result",
          "data": {
            "text/plain": [
              "([<matplotlib.patches.Wedge at 0x7f6c3202d110>,\n",
              "  <matplotlib.patches.Wedge at 0x7f6c3202d150>],\n",
              " [Text(0.3327660273091482, 1.0484592367225762, 'No'),\n",
              "  Text(-0.3327661254729852, -1.0484592055667676, 'Yes')],\n",
              " [Text(0.1815087421686263, 0.5718868563941325, '40.2%'),\n",
              "  Text(-0.18150879571253734, -0.571886839400055, '59.8%')])"
            ]
          },
          "metadata": {},
          "execution_count": 9
        },
        {
          "output_type": "display_data",
          "data": {
            "text/plain": [
              "<Figure size 432x288 with 1 Axes>"
            ],
            "image/png": "[encoded data removed]"
          },
          "metadata": {}
        }
      ]
    }
  ]
}
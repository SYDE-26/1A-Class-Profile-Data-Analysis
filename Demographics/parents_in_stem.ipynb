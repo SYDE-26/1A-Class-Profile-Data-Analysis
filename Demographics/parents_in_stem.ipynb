{
  "nbformat": 4,
  "nbformat_minor": 0,
  "metadata": {
    "colab": {
      "name": "parents_in_stem.ipynb",
      "provenance": []
    },
    "kernelspec": {
      "name": "python3",
      "display_name": "Python 3"
    },
    "language_info": {
      "name": "python"
    }
  },
  "cells": [
    {
      "cell_type": "code",
      "execution_count": 1,
      "metadata": {
        "id": "L5b5kVqfjxQw"
      },
      "outputs": [],
      "source": [
        "# Import dependecies \n",
        "\n",
        "import pandas as pd\n",
        "import matplotlib.pyplot as plt\n",
        "import seaborn as sns"
      ]
    },
    {
      "cell_type": "code",
      "source": [
        "# Import data\n",
        "\n",
        "data = pd.read_csv('unordered_demographics.csv')\n",
        "\n",
        "# Identify column of interest and rename it\n",
        "\n",
        "column = ['Were either of your parents in STEM?']\n",
        "relevant_data = data[column].dropna().rename(columns={'Were either of your parents in STEM?': 'parents_in_stem'})"
      ],
      "metadata": {
        "id": "ULz7AdETj4Hc"
      },
      "execution_count": 2,
      "outputs": []
    },
    {
      "cell_type": "code",
      "source": [
        "# Generate distribution\n",
        "\n",
        "distribution = relevant_data.groupby('parents_in_stem')['parents_in_stem'].count()\n",
        "distribution"
      ],
      "metadata": {
        "colab": {
          "base_uri": "https://localhost:8080/"
        },
        "id": "J4_E05Auj5nI",
        "outputId": "0f4090ec-ad3b-4ae3-90a2-325ff3337913"
      },
      "execution_count": 3,
      "outputs": [
        {
          "output_type": "execute_result",
          "data": {
            "text/plain": [
              "parents_in_stem\n",
              "No     37\n",
              "Yes    55\n",
              "Name: parents_in_stem, dtype: int64"
            ]
          },
          "metadata": {},
          "execution_count": 3
        }
      ]
    },
    {
      "cell_type": "code",
      "source": [
        "# Plot graph with appropriate title, color palette, and data\n",
        "\n",
        "plt.title(\"Students with Parents in STEM\")\n",
        "labels=['No', 'Yes']\n",
        "colors = sns.color_palette('pastel')\n",
        "plt.pie(distribution, autopct='%.1f%%', labels=labels, colors=colors)"
      ],
      "metadata": {
        "colab": {
          "base_uri": "https://localhost:8080/",
          "height": 368
        },
        "id": "L_M9myKgj6-9",
        "outputId": "4ba53f31-8009-4591-e922-901022383362"
      },
      "execution_count": 4,
      "outputs": [
        {
          "output_type": "execute_result",
          "data": {
            "text/plain": [
              "([<matplotlib.patches.Wedge at 0x7fd8d8dafc90>,\n",
              "  <matplotlib.patches.Wedge at 0x7fd8d8dc25d0>],\n",
              " [Text(0.3327660273091482, 1.0484592367225762, 'No'),\n",
              "  Text(-0.3327661254729852, -1.0484592055667676, 'Yes')],\n",
              " [Text(0.1815087421686263, 0.5718868563941325, '40.2%'),\n",
              "  Text(-0.18150879571253734, -0.571886839400055, '59.8%')])"
            ]
          },
          "metadata": {},
          "execution_count": 4
        },
        {
          "output_type": "display_data",
          "data": {
            "image/png": "[encoded data removed]",
            "text/plain": [
              "<Figure size 432x288 with 1 Axes>"
            ]
          },
          "metadata": {}
        }
      ]
    }
  ]
}
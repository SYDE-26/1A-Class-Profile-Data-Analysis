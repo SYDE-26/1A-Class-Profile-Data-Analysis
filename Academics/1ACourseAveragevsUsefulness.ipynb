{
  "nbformat": 4,
  "nbformat_minor": 0,
  "metadata": {
    "colab": {
      "name": "1ACourseAveragevsUsefulness.ipynb",
      "provenance": []
    },
    "kernelspec": {
      "name": "python3",
      "display_name": "Python 3"
    },
    "language_info": {
      "name": "python"
    }
  },
  "cells": [
    {
      "cell_type": "code",
      "execution_count": null,
      "metadata": {
        "colab": {
          "base_uri": "https://localhost:8080/",
          "height": 602
        },
        "id": "Q2JYyfW8d0QO",
        "outputId": "14cf89a0-7bc9-41d6-ac7f-002a6fe2586e"
      },
      "outputs": [
        {
          "output_type": "error",
          "ename": "NameError",
          "evalue": "ignored",
          "traceback": [
            "\u001b[0;31m---------------------------------------------------------------------------\u001b[0m",
            "\u001b[0;31mNameError\u001b[0m                                 Traceback (most recent call last)",
            "\u001b[0;32m<ipython-input-2-4f0d05ab172f>\u001b[0m in \u001b[0;36m<module>\u001b[0;34m()\u001b[0m\n\u001b[1;32m    102\u001b[0m \u001b[0mplt\u001b[0m\u001b[0;34m.\u001b[0m\u001b[0mtitle\u001b[0m\u001b[0;34m(\u001b[0m\u001b[0;34m\"1A Course Average vs Usefulness [85 Respondents]\"\u001b[0m\u001b[0;34m)\u001b[0m\u001b[0;34m\u001b[0m\u001b[0;34m\u001b[0m\u001b[0m\n\u001b[1;32m    103\u001b[0m \u001b[0mplt\u001b[0m\u001b[0;34m.\u001b[0m\u001b[0mylabel\u001b[0m\u001b[0;34m(\u001b[0m\u001b[0;34m\"Course Average(%)\"\u001b[0m\u001b[0;34m)\u001b[0m\u001b[0;34m\u001b[0m\u001b[0;34m\u001b[0m\u001b[0m\n\u001b[0;32m--> 104\u001b[0;31m \u001b[0mplt\u001b[0m\u001b[0;34m.\u001b[0m\u001b[0mplot\u001b[0m\u001b[0;34m(\u001b[0m\u001b[0mx\u001b[0m\u001b[0;34m,\u001b[0m\u001b[0my\u001b[0m\u001b[0;34m)\u001b[0m\u001b[0;34m\u001b[0m\u001b[0;34m\u001b[0m\u001b[0m\n\u001b[0m\u001b[1;32m    105\u001b[0m \u001b[0;34m\u001b[0m\u001b[0m\n",
            "\u001b[0;31mNameError\u001b[0m: name 'y' is not defined"
          ]
        },
        {
          "output_type": "display_data",
          "data": {
            "text/plain": [
              "<Figure size 432x288 with 0 Axes>"
            ]
          },
          "metadata": {}
        },
        {
          "output_type": "display_data",
          "data": {
            "text/plain": [
              "<Figure size 864x432 with 1 Axes>"
            ],
            "image/png": "[encoded data removed]"
          },
          "metadata": {
            "needs_background": "light"
          }
        }
      ],
      "source": [
        "import math\n",
        "import numpy as np\n",
        "import matplotlib.pyplot as plt\n",
        "\n",
        "\n",
        "fig = plt.figure()\n",
        "fig, ax = plt.subplots(figsize=(12, 6))\n",
        "\n",
        "\n",
        "x = np.arange(0, 2.5, 2.5)\n",
        "\n",
        "# Move left y-axis and bottim x-axis to centre, passing through (0,0)\n",
        "ax.spines['left'].set_position('zero')\n",
        "\n",
        "\n",
        "# Eliminate upper and right axes\n",
        "ax.spines['right'].set_color('none')\n",
        "ax.spines['top'].set_color('none')\n",
        "\n",
        "ax.xaxis.set_ticks_position('bottom')\n",
        "ax.yaxis.set_ticks_position('left')\n",
        "\n",
        "plt.xlim([-2.5, 2.5])\n",
        "\n",
        "labels = [item.get_text() for item in ax.get_xticklabels()]\n",
        "labels[1] = 'Very Useless'\n",
        "labels[2] = 'Somewhat Useless'\n",
        "labels[3] = 'Neutral'\n",
        "labels[4] = 'Somewhat Useful'\n",
        "labels[5] = 'Very Useful'\n",
        "\n",
        "ax.set_xticklabels(labels)\n",
        "\n",
        "\n",
        "\n",
        "#data\n",
        "c181diff = 4.117647059-4\n",
        "c181use = 93.0348872\n",
        "\n",
        "c101diff = 2.488636-4\n",
        "c101use = 89.24137931\n",
        "\n",
        "c121diff =  5.375-4\n",
        "c121use = 89.8255814\n",
        "\n",
        "c113diff = 4.6781-4\n",
        "c113use = 83.36046512\n",
        "\n",
        "c111diff = 5.035714286-4\n",
        "c111use = 81.56976744\n",
        "\n",
        "c161diff = 4.046511628-4\n",
        "c161use = 79.8488721\n",
        "\n",
        "c101Ldiff = 4.534090909-4\n",
        "c101Luse = 86.79069767\n",
        "\n",
        "\n",
        "plt.scatter(\n",
        "    x=c181diff,\n",
        "    y=c181use,\n",
        "    color=\"#FFFFBF\"\n",
        ")\n",
        "\n",
        "plt.scatter(\n",
        "    x=c101diff,\n",
        "    y=c101use,\n",
        "    color=\"#FFDFBE\"\n",
        ")\n",
        "\n",
        "plt.scatter(\n",
        "    x=c121diff,\n",
        "    y=c121use,\n",
        "    color=\"#FF69B4\"\n",
        ")\n",
        "\n",
        "plt.scatter(\n",
        "    x=c113diff,\n",
        "    y=c113use,\n",
        "    color=\"#a9d1f7\"\n",
        ")\n",
        "\n",
        "plt.scatter(\n",
        "    x=c111diff,\n",
        "    y=c111use,\n",
        "    color=\"#B4F0A7\"\n",
        ")\n",
        "\n",
        "plt.scatter(\n",
        "    x=c101Ldiff,\n",
        "    y=c101Luse,\n",
        "    color=\"#FF6663\"\n",
        ")\n",
        "\n",
        "plt.scatter(\n",
        "    x=c161diff,\n",
        "    y=c161use,\n",
        "    color=\"#cc99ff\"\n",
        ")\n",
        "\n",
        "plt.legend([\"181\",\"101\",\"121\",\"113\",\"111\",\"101L\",\"161\"])\n",
        "plt.title(\"1A Course Average vs Usefulness [85 Respondents]\")\n",
        "plt.ylabel(\"Course Average(%)\")\n",
        "plt.plot(x,y)\n",
        "\n"
      ]
    }
  ]
}
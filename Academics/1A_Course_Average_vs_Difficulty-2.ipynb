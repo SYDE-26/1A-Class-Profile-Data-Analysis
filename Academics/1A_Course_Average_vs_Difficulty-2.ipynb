{
  "nbformat": 4,
  "nbformat_minor": 0,
  "metadata": {
    "colab": {
      "name": "1A Course Average vs Difficulty.ipynb",
      "provenance": []
    },
    "kernelspec": {
      "name": "python3",
      "display_name": "Python 3"
    },
    "language_info": {
      "name": "python"
    }
  },
  "cells": [
    {
      "cell_type": "code",
      "execution_count": null,
      "metadata": {
        "colab": {
          "base_uri": "https://localhost:8080/",
          "height": 605
        },
        "id": "dmk2juP0ZSm2",
        "outputId": "c671caa8-22c2-4c2e-f28e-6a1c15c5516c"
      },
      "outputs": [
        {
          "output_type": "error",
          "ename": "NameError",
          "evalue": "ignored",
          "traceback": [
            "\u001b[0;31m---------------------------------------------------------------------------\u001b[0m",
            "\u001b[0;31mNameError\u001b[0m                                 Traceback (most recent call last)",
            "\u001b[0;32m<ipython-input-1-f10c8f802d1a>\u001b[0m in \u001b[0;36m<module>\u001b[0;34m()\u001b[0m\n\u001b[1;32m    110\u001b[0m \u001b[0mplt\u001b[0m\u001b[0;34m.\u001b[0m\u001b[0mtitle\u001b[0m\u001b[0;34m(\u001b[0m\u001b[0;34m\"1A Course Average vs Difficulty [85 Respondents]\"\u001b[0m\u001b[0;34m)\u001b[0m\u001b[0;34m\u001b[0m\u001b[0;34m\u001b[0m\u001b[0m\n\u001b[1;32m    111\u001b[0m \u001b[0mplt\u001b[0m\u001b[0;34m.\u001b[0m\u001b[0mylabel\u001b[0m\u001b[0;34m(\u001b[0m\u001b[0;34m\"Course Average(%)\"\u001b[0m\u001b[0;34m)\u001b[0m\u001b[0;34m\u001b[0m\u001b[0;34m\u001b[0m\u001b[0m\n\u001b[0;32m--> 112\u001b[0;31m \u001b[0mplt\u001b[0m\u001b[0;34m.\u001b[0m\u001b[0mplot\u001b[0m\u001b[0;34m(\u001b[0m\u001b[0mx\u001b[0m\u001b[0;34m,\u001b[0m\u001b[0my\u001b[0m\u001b[0;34m)\u001b[0m\u001b[0;34m\u001b[0m\u001b[0;34m\u001b[0m\u001b[0m\n\u001b[0m\u001b[1;32m    113\u001b[0m \u001b[0;34m\u001b[0m\u001b[0m\n",
            "\u001b[0;31mNameError\u001b[0m: name 'y' is not defined"
          ]
        },
        {
          "output_type": "display_data",
          "data": {
            "text/plain": [
              "<Figure size 432x288 with 0 Axes>"
            ]
          },
          "metadata": {}
        },
        {
          "output_type": "display_data",
          "data": {
            "text/plain": [
              "<Figure size 864x432 with 1 Axes>"
            ],
            "image/png": "[encoded data removed]"
          },
          "metadata": {
            "needs_background": "light"
          }
        }
      ],
      "source": [
        "#1A Course Average vs Difficulty\n",
        "import math\n",
        "import numpy as np\n",
        "import matplotlib.pyplot as plt\n",
        "\n",
        "\n",
        "fig = plt.figure()\n",
        "fig, ax = plt.subplots(figsize=(12, 6))\n",
        "\n",
        "\n",
        "x = np.arange(0, 2.5, 2.5)\n",
        "\n",
        "# Move left y-axis and bottim x-axis to centre, passing through (0,0)\n",
        "ax.spines['left'].set_position('zero')\n",
        "\n",
        "\n",
        "# Eliminate upper and right axes\n",
        "ax.spines['right'].set_color('none')\n",
        "ax.spines['top'].set_color('none')\n",
        "\n",
        "ax.xaxis.set_ticks_position('bottom')\n",
        "ax.yaxis.set_ticks_position('left')\n",
        "\n",
        "plt.xlim([-2.5, 2.5])\n",
        "\n",
        "labels = [item.get_text() for item in ax.get_xticklabels()]\n",
        "labels[1] = 'Very Difficult'\n",
        "labels[2] = 'Somewhat Difficult'\n",
        "labels[3] = 'Neutral'\n",
        "labels[4] = 'Somewhat Easy'\n",
        "labels[5] = 'Very Easy'\n",
        "\n",
        "ax.set_xticklabels(labels)\n",
        "\n",
        "#data\n",
        "c181diff = 5.341176471-4\n",
        "c181use = 93.0348872\n",
        "\n",
        "c101diff = 6.147727273-4\n",
        "c101use = 89.24137931\n",
        "\n",
        "c121diff = 4.079545455-4\n",
        "c121use = 89.8255814\n",
        "\n",
        "c113diff = 3.298850575-4\n",
        "c113use = 83.36046512\n",
        "\n",
        "c111diff = 2.452380952-4\n",
        "c111use = 81.56976744\n",
        "\n",
        "c161diff = 3.488372093-4\n",
        "c161use = 79.8488721\n",
        "\n",
        "c101Ldiff = 4.943181818-4\n",
        "c101Luse = 86.79069767\n",
        "\n",
        "\n",
        "plt.scatter(\n",
        "    x=c181diff,\n",
        "    y=c181use,\n",
        "    color=\"#FE8C5A\"\n",
        ")\n",
        "\n",
        "plt.scatter(\n",
        "    x=c101diff,\n",
        "    y=c101use,\n",
        "    color=\"#FF76A5\"\n",
        ")\n",
        "\n",
        "plt.scatter(\n",
        "    x=c121diff,\n",
        "    y=c121use,\n",
        "    color=\"#FF8180\"\n",
        ")\n",
        "\n",
        "plt.scatter(\n",
        "    x=c113diff,\n",
        "    y=c113use,\n",
        "    color=\"#7F462D\"\n",
        ")\n",
        "\n",
        "plt.scatter(\n",
        "    x=c111diff,\n",
        "    y=c111use,\n",
        "    color=\"#804140\"\n",
        ")\n",
        "\n",
        "plt.scatter(\n",
        "    x=c101Ldiff,\n",
        "    y=c101Luse,\n",
        "    color=\"#FFC6AD\"\n",
        ")\n",
        "\n",
        "plt.scatter(\n",
        "    x=c161diff,\n",
        "    y=c161use,\n",
        "    color=\"#FFBBD2\"\n",
        ")\n",
        "\n",
        "plt.legend([\"181\",\"101\",\"121\",\"113\",\"111\",\"101L\",\"161\"])\n",
        "plt.title(\"1A Course Average vs Difficulty [85 Respondents]\")\n",
        "plt.ylabel(\"Course Average(%)\")\n",
        "plt.plot(x,y)\n",
        "\n"
      ]
    }
  ]
}
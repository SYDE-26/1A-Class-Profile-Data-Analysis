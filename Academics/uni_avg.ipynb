{
  "nbformat": 4,
  "nbformat_minor": 0,
  "metadata": {
    "colab": {
      "name": "uni_avg.ipynb",
      "provenance": [],
      "collapsed_sections": []
    },
    "kernelspec": {
      "name": "python3",
      "display_name": "Python 3"
    },
    "language_info": {
      "name": "python"
    }
  },
  "cells": [
    {
      "cell_type": "code",
      "execution_count": null,
      "metadata": {
        "id": "IMXihy9kFBE0"
      },
      "outputs": [],
      "source": [
        "# Import dependecies \n",
        "\n",
        "import pandas as pd\n",
        "import matplotlib.pyplot as plt\n",
        "import seaborn as sns"
      ]
    },
    {
      "cell_type": "code",
      "source": [
        "# Import data\n",
        "\n",
        "data = pd.read_csv('clean_data.csv')\n",
        "\n",
        "# Identify column of interest and rename it\n",
        "\n",
        "column = ['What is your University Average?']\n",
        "relevant_data = data[column].dropna().rename(columns={'What is your University Average?': 'average'})"
      ],
      "metadata": {
        "id": "4qJgm7TRT6TD"
      },
      "execution_count": null,
      "outputs": []
    },
    {
      "cell_type": "code",
      "source": [
        "# Generate distribution\n",
        "\n",
        "filtered_grades = relevant_data.dropna().sort_values(by='average')\n",
        "print(filtered_grades)"
      ],
      "metadata": {
        "colab": {
          "base_uri": "https://localhost:8080/"
        },
        "id": "zYoCKW-Dlye9",
        "outputId": "5b801665-9d67-4331-b629-3fb1215a15c4"
      },
      "execution_count": null,
      "outputs": [
        {
          "output_type": "stream",
          "name": "stdout",
          "text": [
            "    average\n",
            "19    72.00\n",
            "33    72.00\n",
            "69    73.00\n",
            "87    77.00\n",
            "89    78.00\n",
            "..      ...\n",
            "10    94.00\n",
            "86    94.18\n",
            "63    95.00\n",
            "85    96.00\n",
            "13    96.00\n",
            "\n",
            "[69 rows x 1 columns]\n"
          ]
        }
      ]
    },
    {
      "cell_type": "code",
      "source": [
        "# Plot graph with appropriate title, color palette, and data\n",
        "\n",
        "plt.figure()\n",
        "plt.title(\"What is your University Average? [n=68]\")\n",
        "ax = sns.histplot(x=filtered_grades[\"average\"], data=filtered_grades, kde=True, color=\"#FF76A5\")\n",
        "plt.xlabel(\"Average\")\n",
        "plt.ylabel(\"Number of Respondents\")"
      ],
      "metadata": {
        "colab": {
          "base_uri": "https://localhost:8080/",
          "height": 312
        },
        "id": "wyzM1uqVl1Gn",
        "outputId": "4cf316ed-1dc2-4ec2-d8ba-38116b6af6b5"
      },
      "execution_count": null,
      "outputs": [
        {
          "output_type": "execute_result",
          "data": {
            "text/plain": [
              "Text(0, 0.5, 'Number of Respondents')"
            ]
          },
          "metadata": {},
          "execution_count": 12
        },
        {
          "output_type": "display_data",
          "data": {
            "text/plain": [
              "<Figure size 432x288 with 1 Axes>"
            ],
            "image/png": "[encoded data removed]"
          },
          "metadata": {
            "needs_background": "light"
          }
        }
      ]
    }
  ]
}
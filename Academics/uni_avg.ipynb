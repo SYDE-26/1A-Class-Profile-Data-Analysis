{
  "nbformat": 4,
  "nbformat_minor": 0,
  "metadata": {
    "colab": {
      "name": "uni_avg.ipynb",
      "provenance": [],
      "collapsed_sections": []
    },
    "kernelspec": {
      "name": "python3",
      "display_name": "Python 3"
    },
    "language_info": {
      "name": "python"
    }
  },
  "cells": [
    {
      "cell_type": "code",
      "execution_count": 1,
      "metadata": {
        "id": "IMXihy9kFBE0"
      },
      "outputs": [],
      "source": [
        "# Import dependecies \n",
        "\n",
        "import pandas as pd\n",
        "import matplotlib.pyplot as plt\n",
        "import seaborn as sns\n",
        "from matplotlib.ticker import FormatStrFormatter"
      ]
    },
    {
      "cell_type": "code",
      "source": [
        "# Import data\n",
        "\n",
        "data = pd.read_csv('clean_data.csv')\n",
        "\n",
        "# Identify column of interest and rename it\n",
        "\n",
        "column = ['What is your University Average?']\n",
        "relevant_data = data[column].dropna().rename(columns={'What is your University Average?': 'average'})"
      ],
      "metadata": {
        "id": "4qJgm7TRT6TD"
      },
      "execution_count": 2,
      "outputs": []
    },
    {
      "cell_type": "code",
      "source": [
        "# Generate distribution\n",
        "\n",
        "filtered_grades = relevant_data.dropna().sort_values(by='average')\n",
        "print(filtered_grades)\n",
        "print(relevant_data['average'].mean())\n",
        "print(relevant_data['average'].median())\n",
        "print(relevant_data['average'].mode())"
      ],
      "metadata": {
        "colab": {
          "base_uri": "https://localhost:8080/"
        },
        "id": "zYoCKW-Dlye9",
        "outputId": "5a5fe1c9-2f1c-4541-fce4-e5b736cf7a6b"
      },
      "execution_count": 3,
      "outputs": [
        {
          "output_type": "stream",
          "name": "stdout",
          "text": [
            "    average\n",
            "19    72.00\n",
            "33    72.00\n",
            "69    73.00\n",
            "87    77.00\n",
            "89    78.00\n",
            "..      ...\n",
            "10    94.00\n",
            "86    94.18\n",
            "63    95.00\n",
            "85    96.00\n",
            "13    96.00\n",
            "\n",
            "[69 rows x 1 columns]\n",
            "86.3504347826087\n",
            "87.0\n",
            "0    87.0\n",
            "dtype: float64\n"
          ]
        }
      ]
    },
    {
      "cell_type": "code",
      "source": [
        "# Plot graph with appropriate title, color palette, and data\n",
        "\n",
        "plt.figure()\n",
        "plt.title(\"What is your University Average? [n=68]\")\n",
        "ax = sns.histplot(x=filtered_grades[\"average\"], data=filtered_grades, kde=True, color=\"#FF76A5\")\n",
        "plt.xlabel(\"Average (%)\")\n",
        "plt.ylabel(\"Number of Respondents\")\n",
        "ax.yaxis.set_major_formatter(FormatStrFormatter('%.f'))"
      ],
      "metadata": {
        "colab": {
          "base_uri": "https://localhost:8080/",
          "height": 295
        },
        "id": "wyzM1uqVl1Gn",
        "outputId": "80ff5623-8c50-4f1f-e0b0-f3e9568434da"
      },
      "execution_count": 4,
      "outputs": [
        {
          "output_type": "display_data",
          "data": {
            "text/plain": [
              "<Figure size 432x288 with 1 Axes>"
            ],
            "image/png": "[encoded data removed]"
          },
          "metadata": {
            "needs_background": "light"
          }
        }
      ]
    }
  ]
}
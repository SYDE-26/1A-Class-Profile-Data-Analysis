{
  "nbformat": 4,
  "nbformat_minor": 0,
  "metadata": {
    "colab": {
      "name": "1AUsefulnessvsDifficulty.ipynb",
      "provenance": []
    },
    "kernelspec": {
      "name": "python3",
      "display_name": "Python 3"
    },
    "language_info": {
      "name": "python"
    }
  },
  "cells": [
    {
      "cell_type": "code",
      "execution_count": null,
      "metadata": {
        "colab": {
          "base_uri": "https://localhost:8080/",
          "height": 594
        },
        "id": "LV7cz7tUQfHm",
        "outputId": "60d33cc2-a192-4eee-db88-795507778f1f"
      },
      "outputs": [
        {
          "output_type": "error",
          "ename": "NameError",
          "evalue": "ignored",
          "traceback": [
            "\u001b[0;31m---------------------------------------------------------------------------\u001b[0m",
            "\u001b[0;31mNameError\u001b[0m                                 Traceback (most recent call last)",
            "\u001b[0;32m<ipython-input-10-3406b3bfce8a>\u001b[0m in \u001b[0;36m<module>\u001b[0;34m()\u001b[0m\n\u001b[1;32m    109\u001b[0m \u001b[0mplt\u001b[0m\u001b[0;34m.\u001b[0m\u001b[0mlegend\u001b[0m\u001b[0;34m(\u001b[0m\u001b[0;34m[\u001b[0m\u001b[0;34m\"181\"\u001b[0m\u001b[0;34m,\u001b[0m\u001b[0;34m\"101\"\u001b[0m\u001b[0;34m,\u001b[0m\u001b[0;34m\"121\"\u001b[0m\u001b[0;34m,\u001b[0m\u001b[0;34m\"113\"\u001b[0m\u001b[0;34m,\u001b[0m\u001b[0;34m\"111\"\u001b[0m\u001b[0;34m,\u001b[0m\u001b[0;34m\"101L\"\u001b[0m\u001b[0;34m,\u001b[0m\u001b[0;34m\"161\"\u001b[0m\u001b[0;34m]\u001b[0m\u001b[0;34m)\u001b[0m\u001b[0;34m\u001b[0m\u001b[0;34m\u001b[0m\u001b[0m\n\u001b[1;32m    110\u001b[0m \u001b[0mplt\u001b[0m\u001b[0;34m.\u001b[0m\u001b[0mtitle\u001b[0m\u001b[0;34m(\u001b[0m\u001b[0;34m\"1A Course Usefulness vs Difficulty [85 Respondents]\"\u001b[0m\u001b[0;34m)\u001b[0m\u001b[0;34m\u001b[0m\u001b[0;34m\u001b[0m\u001b[0m\n\u001b[0;32m--> 111\u001b[0;31m \u001b[0mplt\u001b[0m\u001b[0;34m.\u001b[0m\u001b[0mplot\u001b[0m\u001b[0;34m(\u001b[0m\u001b[0mx\u001b[0m\u001b[0;34m,\u001b[0m\u001b[0my\u001b[0m\u001b[0;34m)\u001b[0m\u001b[0;34m\u001b[0m\u001b[0;34m\u001b[0m\u001b[0m\n\u001b[0m\u001b[1;32m    112\u001b[0m \u001b[0;34m\u001b[0m\u001b[0m\n",
            "\u001b[0;31mNameError\u001b[0m: name 'y' is not defined"
          ]
        },
        {
          "output_type": "display_data",
          "data": {
            "text/plain": [
              "<Figure size 432x288 with 0 Axes>"
            ]
          },
          "metadata": {}
        },
        {
          "output_type": "display_data",
          "data": {
            "text/plain": [
              "<Figure size 864x432 with 1 Axes>"
            ],
            "image/png": "[encoded data removed]"
          },
          "metadata": {
            "needs_background": "light"
          }
        }
      ],
      "source": [
        "import math\n",
        "import numpy as np\n",
        "import matplotlib.pyplot as plt\n",
        "\n",
        "\n",
        "fig = plt.figure()\n",
        "fig, ax = plt.subplots(figsize=(12, 6))\n",
        "\n",
        "\n",
        "x = np.arange(0, 2, 2)\n",
        "\n",
        "# Move left y-axis and bottim x-axis to centre, passing through (0,0)\n",
        "ax.spines['left'].set_position('zero')\n",
        "ax.spines['bottom'].set_position('zero')\n",
        "\n",
        "# Eliminate upper and right axes\n",
        "ax.spines['right'].set_color('none')\n",
        "ax.spines['top'].set_color('none')\n",
        "\n",
        "ax.xaxis.set_ticks_position('bottom')\n",
        "ax.yaxis.set_ticks_position('left')\n",
        "\n",
        "plt.xlim([-2.25, 2.25])\n",
        "\n",
        "plt.ylim([-2, 2])\n",
        "labels = [item.get_text() for item in ax.get_xticklabels()]\n",
        "labels[1] = 'Very Difficult'\n",
        "labels[3] = 'Somewhat Difficult'\n",
        "labels[5] = 'Neutral'\n",
        "labels[7] = 'Somewhat Easy'\n",
        "labels[9] = 'Very Easy'\n",
        "\n",
        "ax.set_xticklabels(labels)\n",
        "\n",
        "labels = [item.get_text() for item in ax.get_yticklabels()]\n",
        "labels[0] = 'Very Useless'\n",
        "labels[2] = 'Somewhat Useless'\n",
        "labels[6] = 'Somewhat Useful'\n",
        "labels[8] = 'Very Useful'\n",
        "\n",
        "ax.set_yticklabels(labels)\n",
        "\n",
        "\n",
        "#data\n",
        "c181diff = 5.341176471-4\n",
        "c181use = 4.117647059-4\n",
        "\n",
        "c101diff = 6.147727273-4 \n",
        "c101use = 2.488636-4\n",
        "\n",
        "c121diff = 4.079545455-4\n",
        "c121use = 5.375-4\n",
        "\n",
        "c113diff = 3.298850575-4\n",
        "c113use = 4.6781-4\n",
        "\n",
        "c111diff = 2.452380952-4\n",
        "c111use = 5.035714286-4\n",
        "\n",
        "c161diff = 3.488372093-4\n",
        "c161use = 4.046511628-4\n",
        "\n",
        "c101Ldiff = 4.943181818-4\n",
        "c101Luse = 4.534090909-4\n",
        "\n",
        "\n",
        "plt.scatter(\n",
        "    x=c181diff,\n",
        "    y=c181use,\n",
        "    color=\"#FFFFBF\"\n",
        ")\n",
        "\n",
        "plt.scatter(\n",
        "    x=c101diff,\n",
        "    y=c101use,\n",
        "    color=\"#FFDFBE\"\n",
        ")\n",
        "\n",
        "plt.scatter(\n",
        "    x=c121diff,\n",
        "    y=c121use,\n",
        "    color=\"#FF69B4\"\n",
        ")\n",
        "\n",
        "plt.scatter(\n",
        "    x=c113diff,\n",
        "    y=c113use,\n",
        "    color=\"#a9d1f7\"\n",
        ")\n",
        "\n",
        "plt.scatter(\n",
        "    x=c111diff,\n",
        "    y=c111use,\n",
        "    color=\"#B4F0A7\"\n",
        ")\n",
        "\n",
        "plt.scatter(\n",
        "    x=c101Ldiff,\n",
        "    y=c101Luse,\n",
        "    color=\"#FF6663\"\n",
        ")\n",
        "\n",
        "plt.scatter(\n",
        "    x=c161diff,\n",
        "    y=c161use,\n",
        "    color=\"#cc99ff\"\n",
        ")\n",
        "\n",
        "plt.legend([\"181\",\"101\",\"121\",\"113\",\"111\",\"101L\",\"161\"])\n",
        "plt.title(\"1A Course Usefulness vs Difficulty [85 Respondents]\")\n",
        "plt.plot(x,y)\n",
        "\n"
      ]
    }
  ]
}
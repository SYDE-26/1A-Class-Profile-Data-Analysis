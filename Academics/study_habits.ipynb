{
  "nbformat": 4,
  "nbformat_minor": 0,
  "metadata": {
    "colab": {
      "name": "study_habits.ipynb",
      "provenance": [],
      "collapsed_sections": []
    },
    "kernelspec": {
      "name": "python3",
      "display_name": "Python 3"
    },
    "language_info": {
      "name": "python"
    }
  },
  "cells": [
    {
      "cell_type": "code",
      "execution_count": null,
      "metadata": {
        "id": "OjHruBhzFHrp"
      },
      "outputs": [],
      "source": [
        "# Import dependecies \n",
        "\n",
        "import pandas as pd\n",
        "import matplotlib.pyplot as plt"
      ]
    },
    {
      "cell_type": "code",
      "source": [
        "# Import data\n",
        "\n",
        "data = pd.read_csv('data - Sheet1.csv')\n",
        "\n",
        "# Identify column of interest and rename it\n",
        "\n",
        "column = ['study habits']\n",
        "relevant_data = data[column].dropna().rename(columns={'study habits': 'study_habits'})"
      ],
      "metadata": {
        "id": "ThUJOxfwOUfm"
      },
      "execution_count": null,
      "outputs": []
    },
    {
      "cell_type": "code",
      "source": [
        "# Generate distribution\n",
        "\n",
        "distribution = relevant_data.groupby('study_habits')['study_habits'].count()\n",
        "distribution"
      ],
      "metadata": {
        "colab": {
          "base_uri": "https://localhost:8080/"
        },
        "id": "R8_5G-nROV0O",
        "outputId": "b529c393-a95e-43ec-b88f-3fd62eddfa26"
      },
      "execution_count": null,
      "outputs": [
        {
          "output_type": "execute_result",
          "data": {
            "text/plain": [
              "study_habits\n",
              "No     58\n",
              "Yes    32\n",
              "Name: study_habits, dtype: int64"
            ]
          },
          "metadata": {},
          "execution_count": 4
        }
      ]
    },
    {
      "cell_type": "code",
      "source": [
        "# Plot graph with appropriate title, color palette, and data\n",
        "\n",
        "plt.title(\"Did your study habits improve over 1A? [n=90]\")\n",
        "labels=['No', 'Yes']\n",
        "colors = [\"#FF76A5\", \"#FF56A5\"]\n",
        "plt.pie(distribution, autopct='%.1f%%', labels=labels, colors=colors)"
      ],
      "metadata": {
        "colab": {
          "base_uri": "https://localhost:8080/",
          "height": 368
        },
        "id": "Cz1KnPRCOYGz",
        "outputId": "7ce704b0-fa8e-48b2-cd4a-fd20190785f2"
      },
      "execution_count": null,
      "outputs": [
        {
          "output_type": "execute_result",
          "data": {
            "text/plain": [
              "([<matplotlib.patches.Wedge at 0x7f4aeccd9dd0>,\n",
              "  <matplotlib.patches.Wedge at 0x7f4aecce6490>],\n",
              " [Text(-0.4822083272929008, 0.9886734188241246, 'No'),\n",
              "  Text(0.48220841985918406, -0.9886733736765186, 'Yes')],\n",
              " [Text(-0.26302272397794585, 0.5392764102677042, '64.4%'),\n",
              "  Text(0.2630227744686458, -0.5392763856417374, '35.6%')])"
            ]
          },
          "metadata": {},
          "execution_count": 10
        },
        {
          "output_type": "display_data",
          "data": {
            "text/plain": [
              "<Figure size 432x288 with 1 Axes>"
            ],
            "image/png": "[encoded data removed]"
          },
          "metadata": {}
        }
      ]
    }
  ]
}
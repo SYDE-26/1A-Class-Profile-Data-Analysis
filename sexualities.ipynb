{
  "nbformat": 4,
  "nbformat_minor": 0,
  "metadata": {
    "colab": {
      "name": "sexualities.ipynb",
      "provenance": []
    },
    "kernelspec": {
      "name": "python3",
      "display_name": "Python 3"
    },
    "language_info": {
      "name": "python"
    }
  },
  "cells": [
    {
      "cell_type": "code",
      "execution_count": 3,
      "metadata": {
        "id": "MHdvxR9ye8wR"
      },
      "outputs": [],
      "source": [
        "# Import dependecies \n",
        "\n",
        "import pandas as pd\n",
        "import matplotlib.pyplot as plt\n",
        "import seaborn as sns"
      ]
    },
    {
      "cell_type": "code",
      "source": [
        "# Import data\n",
        "\n",
        "data = pd.read_csv('unordered_demographics.csv')\n",
        "\n",
        "# Identify column of interest and rename it\n",
        "\n",
        "column = ['What is your sexuality?']\n",
        "relevant_data = data[column].dropna().rename(columns={'What is your sexuality?': 'sexuality'})"
      ],
      "metadata": {
        "id": "ln7IY0CBfEKX"
      },
      "execution_count": 4,
      "outputs": []
    },
    {
      "cell_type": "code",
      "source": [
        "# Generate distribution\n",
        "\n",
        "distribution = relevant_data.groupby('sexuality')['sexuality'].count()\n",
        "distribution"
      ],
      "metadata": {
        "colab": {
          "base_uri": "https://localhost:8080/"
        },
        "id": "7ZVA8eFXfF1C",
        "outputId": "09693328-a210-4a0c-eef4-645225e550c2"
      },
      "execution_count": 6,
      "outputs": [
        {
          "output_type": "execute_result",
          "data": {
            "text/plain": [
              "sexuality\n",
              "Bisexual         8\n",
              "Heterosexual    81\n",
              "Homosexual       2\n",
              "Pansexual        1\n",
              "Name: sexuality, dtype: int64"
            ]
          },
          "metadata": {},
          "execution_count": 6
        }
      ]
    },
    {
      "cell_type": "code",
      "source": [
        "# Plot graph with appropriate title, color palette, and data\n",
        "\n",
        "plt.title(\"Sexualities in SYDE\")\n",
        "labels=['Bisexual', 'Heterosexual', 'Homosexual', 'Pansexual']\n",
        "colors = sns.color_palette('pastel')\n",
        "plt.pie(distribution, autopct='%.1f%%', labels=labels, colors=colors)"
      ],
      "metadata": {
        "colab": {
          "base_uri": "https://localhost:8080/",
          "height": 472
        },
        "id": "AbYiIudDfHWI",
        "outputId": "72104219-b03e-4dc9-861e-9243f3578360"
      },
      "execution_count": 7,
      "outputs": [
        {
          "output_type": "execute_result",
          "data": {
            "text/plain": [
              "([<matplotlib.patches.Wedge at 0x7fde038ee950>,\n",
              "  <matplotlib.patches.Wedge at 0x7fde030eed90>,\n",
              "  <matplotlib.patches.Wedge at 0x7fde0312fe50>,\n",
              "  <matplotlib.patches.Wedge at 0x7fde17f5ec90>],\n",
              " [Text(1.0592090145724589, 0.2967764536624172, 'Bisexual'),\n",
              "  Text(-1.0840054508486996, -0.18690153164248718, 'Heterosexual'),\n",
              "  Text(1.0897545691827992, -0.14978310634117467, 'Homosexual'),\n",
              "  Text(1.099358731830992, -0.03755500961194126, 'Pansexual')],\n",
              " [Text(0.5777503715849774, 0.1618780656340457, '8.7%'),\n",
              "  Text(-0.591275700462927, -0.10194628998681118, '88.0%'),\n",
              "  Text(0.5944115831906177, -0.08169987618609527, '2.2%'),\n",
              "  Text(0.5996502173623592, -0.020484550697422502, '1.1%')])"
            ]
          },
          "metadata": {},
          "execution_count": 7
        },
        {
          "output_type": "display_data",
          "data": {
            "image/png": "[encoded data removed]",
            "text/plain": [
              "<Figure size 432x288 with 1 Axes>"
            ]
          },
          "metadata": {}
        }
      ]
    }
  ]
}
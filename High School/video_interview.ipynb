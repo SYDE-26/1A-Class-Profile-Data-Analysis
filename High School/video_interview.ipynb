{
  "nbformat": 4,
  "nbformat_minor": 0,
  "metadata": {
    "colab": {
      "name": "video_interview.ipynb",
      "provenance": [],
      "collapsed_sections": []
    },
    "kernelspec": {
      "name": "python3",
      "display_name": "Python 3"
    },
    "language_info": {
      "name": "python"
    }
  },
  "cells": [
    {
      "cell_type": "code",
      "execution_count": null,
      "metadata": {
        "id": "X84bpVWoll2X"
      },
      "outputs": [],
      "source": [
        "# Import dependecies \n",
        "\n",
        "import pandas as pd\n",
        "import matplotlib.pyplot as plt"
      ]
    },
    {
      "cell_type": "code",
      "source": [
        "# Import data\n",
        "\n",
        "data = pd.read_csv('unordered_highschool.csv')\n",
        "\n",
        "# Identify column of interest and rename it\n",
        "\n",
        "column = ['Video Interview?']\n",
        "relevant_data = data[column].dropna().rename(columns={'Video Interview?': 'interview'})"
      ],
      "metadata": {
        "id": "rFUqBFOblpvV"
      },
      "execution_count": null,
      "outputs": []
    },
    {
      "cell_type": "code",
      "source": [
        "# Generate distribution\n",
        "\n",
        "distribution = relevant_data.groupby('interview')['interview'].count()\n",
        "distribution"
      ],
      "metadata": {
        "id": "GBuDPO5Slr0M",
        "colab": {
          "base_uri": "https://localhost:8080/"
        },
        "outputId": "03b561ae-7f3f-4d34-f9cf-806d9efba2d5"
      },
      "execution_count": null,
      "outputs": [
        {
          "output_type": "execute_result",
          "data": {
            "text/plain": [
              "interview\n",
              "No      1\n",
              "Yes    90\n",
              "Name: interview, dtype: int64"
            ]
          },
          "metadata": {},
          "execution_count": 3
        }
      ]
    },
    {
      "cell_type": "code",
      "source": [
        "# Plot graph with appropriate title, color palette, and data\n",
        "\n",
        "plt.title(\"Did you submit a video interview? [n=91]\")\n",
        "labels=['No', 'Yes']\n",
        "colors = [\"#FED990\", \"#FFBF3E\"]\n",
        "plt.pie(distribution, autopct='%.1f%%', labels=labels, colors=colors)"
      ],
      "metadata": {
        "id": "VEE3R-uHltYl",
        "colab": {
          "base_uri": "https://localhost:8080/",
          "height": 368
        },
        "outputId": "e4e40a32-910a-40f7-cd72-2b39bb53597c"
      },
      "execution_count": null,
      "outputs": [
        {
          "output_type": "execute_result",
          "data": {
            "text/plain": [
              "([<matplotlib.patches.Wedge at 0x7fae13b2dd10>,\n",
              "  <matplotlib.patches.Wedge at 0x7fae13b3c350>],\n",
              " [Text(1.0993445545732177, 0.0379677538210257, 'No'),\n",
              "  Text(-1.09934455446213, -0.0379677570375274, 'Yes')],\n",
              " [Text(0.5996424843126641, 0.02070968390237765, '1.1%'),\n",
              "  Text(-0.5996424842520709, -0.020709685656833125, '98.9%')])"
            ]
          },
          "metadata": {},
          "execution_count": 4
        },
        {
          "output_type": "display_data",
          "data": {
            "text/plain": [
              "<Figure size 432x288 with 1 Axes>"
            ],
            "image/png": "[encoded data removed]"
          },
          "metadata": {}
        }
      ]
    }
  ]
}
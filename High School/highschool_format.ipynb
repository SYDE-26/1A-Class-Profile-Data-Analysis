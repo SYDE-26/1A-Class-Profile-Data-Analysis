{
  "nbformat": 4,
  "nbformat_minor": 0,
  "metadata": {
    "colab": {
      "name": "highschool_format.ipynb",
      "provenance": [],
      "collapsed_sections": []
    },
    "kernelspec": {
      "name": "python3",
      "display_name": "Python 3"
    },
    "language_info": {
      "name": "python"
    }
  },
  "cells": [
    {
      "cell_type": "code",
      "execution_count": 1,
      "metadata": {
        "id": "hMMKN1ASoSpz"
      },
      "outputs": [],
      "source": [
        "# Import dependecies \n",
        "\n",
        "import pandas as pd\n",
        "import matplotlib.pyplot as plt\n",
        "import seaborn as sns"
      ]
    },
    {
      "cell_type": "code",
      "source": [
        "# Import data\n",
        "\n",
        "data = pd.read_csv('unordered_highschool.csv')\n",
        "\n",
        "# Identify column of interest and rename it\n",
        "\n",
        "column = ['Format']\n",
        "relevant_data = data[column].dropna().rename(columns={'Format': 'highschool_format'})"
      ],
      "metadata": {
        "id": "4y8Pt9AqoT8P"
      },
      "execution_count": 2,
      "outputs": []
    },
    {
      "cell_type": "code",
      "source": [
        "# Generate distribution\n",
        "\n",
        "distribution = relevant_data.groupby('highschool_format')['highschool_format'].count()\n",
        "distribution"
      ],
      "metadata": {
        "colab": {
          "base_uri": "https://localhost:8080/"
        },
        "id": "v_vA44ZhoVgv",
        "outputId": "0b36dd9b-f3a6-447f-dbb1-a4d0b59f3004"
      },
      "execution_count": 3,
      "outputs": [
        {
          "output_type": "execute_result",
          "data": {
            "text/plain": [
              "highschool_format\n",
              "Full year       6\n",
              "Octomesters     5\n",
              "Quadmesters    51\n",
              "Semesters      29\n",
              "Name: highschool_format, dtype: int64"
            ]
          },
          "metadata": {},
          "execution_count": 3
        }
      ]
    },
    {
      "cell_type": "code",
      "source": [
        "# Plot graph with appropriate title, color palette, and data\n",
        "\n",
        "plt.title(\"What format was your last year of high school in? [n=91]\")\n",
        "labels=['Full year', 'Octomesters', 'Quadmesters', 'Semesters']\n",
        "colors = [\"#C067E2\", \"#749BFF\", \"#9A81F1\", \"#603471\"]\n",
        "plt.pie(distribution, autopct='%.1f%%', labels=labels, colors=colors)"
      ],
      "metadata": {
        "colab": {
          "base_uri": "https://localhost:8080/",
          "height": 478
        },
        "id": "hu24gLoroWyG",
        "outputId": "375f4f73-6725-453e-9827-b4bc86e50bb3"
      },
      "execution_count": 4,
      "outputs": [
        {
          "output_type": "execute_result",
          "data": {
            "text/plain": [
              "([<matplotlib.patches.Wedge at 0x7f800fb03b10>,\n",
              "  <matplotlib.patches.Wedge at 0x7f800fb15310>,\n",
              "  <matplotlib.patches.Wedge at 0x7f800fb15b90>,\n",
              "  <matplotlib.patches.Wedge at 0x7f800fb204d0>],\n",
              " [Text(1.0764858753234237, 0.22622590530079098, 'Full year'),\n",
              "  Text(0.9159330506193445, 0.6091524002933433, 'Octomesters'),\n",
              "  Text(-0.8943617781156045, 0.640403786564301, 'Quadmesters'),\n",
              "  Text(0.5932522449990792, -0.9263108408107684, 'Semesters')],\n",
              " [Text(0.5871741138127765, 0.12339594834588598, '6.6%'),\n",
              "  Text(0.49959984579236966, 0.33226494561455083, '5.5%'),\n",
              "  Text(-0.48783369715396596, 0.34931115630780046, '56.0%'),\n",
              "  Text(0.32359213363586137, -0.5052604586240554, '31.9%')])"
            ]
          },
          "metadata": {},
          "execution_count": 4
        },
        {
          "output_type": "display_data",
          "data": {
            "text/plain": [
              "<Figure size 432x288 with 1 Axes>"
            ],
            "image/png": "[encoded data removed]"
          },
          "metadata": {}
        }
      ]
    }
  ]
}
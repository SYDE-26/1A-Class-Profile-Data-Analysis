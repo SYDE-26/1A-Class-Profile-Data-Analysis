{
  "nbformat": 4,
  "nbformat_minor": 0,
  "metadata": {
    "colab": {
      "name": "highschool_delivery.ipynb",
      "provenance": [],
      "collapsed_sections": []
    },
    "kernelspec": {
      "name": "python3",
      "display_name": "Python 3"
    },
    "language_info": {
      "name": "python"
    }
  },
  "cells": [
    {
      "cell_type": "code",
      "execution_count": 1,
      "metadata": {
        "id": "sOy6L8u_ne6P"
      },
      "outputs": [],
      "source": [
        "# Import dependecies \n",
        "\n",
        "import pandas as pd\n",
        "import matplotlib.pyplot as plt\n",
        "import seaborn as sns"
      ]
    },
    {
      "cell_type": "code",
      "source": [
        "# Import data\n",
        "\n",
        "data = pd.read_csv('unordered_highschool.csv')\n",
        "\n",
        "# Identify column of interest and rename it\n",
        "\n",
        "column = ['Mode of Delivery (G12)']\n",
        "relevant_data = data[column].dropna().rename(columns={'Mode of Delivery (G12)': 'highschool_delivery'})"
      ],
      "metadata": {
        "id": "KrhvcS0Dng8r"
      },
      "execution_count": 2,
      "outputs": []
    },
    {
      "cell_type": "code",
      "source": [
        "# Generate distribution\n",
        "\n",
        "distribution = relevant_data.groupby('highschool_delivery')['highschool_delivery'].count()\n",
        "distribution"
      ],
      "metadata": {
        "colab": {
          "base_uri": "https://localhost:8080/"
        },
        "id": "_LE7RdfAniaW",
        "outputId": "99d2fb33-072e-45f7-8986-7ef062c53106"
      },
      "execution_count": 3,
      "outputs": [
        {
          "output_type": "execute_result",
          "data": {
            "text/plain": [
              "highschool_delivery\n",
              "Fully in-person     9\n",
              "Fully online       19\n",
              "Hybrid             63\n",
              "Name: highschool_delivery, dtype: int64"
            ]
          },
          "metadata": {},
          "execution_count": 3
        }
      ]
    },
    {
      "cell_type": "code",
      "source": [
        "# Plot graph with appropriate title, color palette, and data\n",
        "\n",
        "plt.title(\"How did you attend the majority of your last year of high school? [n=91]\")\n",
        "labels=['Fully in-person', 'Fully online ', 'Hybrid']\n",
        "colors = [\"#C067E2\", \"#749BFF\", \"#9A81F1\"]\n",
        "plt.pie(distribution, autopct='%.1f%%', labels=labels, colors=colors)"
      ],
      "metadata": {
        "colab": {
          "base_uri": "https://localhost:8080/",
          "height": 424
        },
        "id": "VBbFjtgLnjv6",
        "outputId": "6e36f3aa-6078-4254-a39e-09d3002cdbe4"
      },
      "execution_count": 4,
      "outputs": [
        {
          "output_type": "execute_result",
          "data": {
            "text/plain": [
              "([<matplotlib.patches.Wedge at 0x7f9810dea850>,\n",
              "  <matplotlib.patches.Wedge at 0x7f9810dfd050>,\n",
              "  <matplotlib.patches.Wedge at 0x7f9810dfd890>],\n",
              " [Text(1.0473294308582257, 0.33630501521414335, 'Fully in-person'),\n",
              "  Text(0.3181773130728843, 1.0529782511741257, 'Fully online '),\n",
              "  Text(-0.6248711464254711, -0.9052823042371465, 'Hybrid')],\n",
              " [Text(0.5712705986499412, 0.18343909920771453, '9.9%'),\n",
              "  Text(0.1735512616761187, 0.5743517733677048, '20.9%'),\n",
              "  Text(-0.34083880714116604, -0.49379034776571623, '69.2%')])"
            ]
          },
          "metadata": {},
          "execution_count": 4
        },
        {
          "output_type": "display_data",
          "data": {
            "text/plain": [
              "<Figure size 432x288 with 1 Axes>"
            ],
            "image/png": "[encoded data removed]"
          },
          "metadata": {}
        }
      ]
    }
  ]
}
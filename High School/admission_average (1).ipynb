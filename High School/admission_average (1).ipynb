{
  "nbformat": 4,
  "nbformat_minor": 0,
  "metadata": {
    "colab": {
      "name": "admission_average.ipynb",
      "provenance": []
    },
    "kernelspec": {
      "name": "python3",
      "display_name": "Python 3"
    },
    "language_info": {
      "name": "python"
    }
  },
  "cells": [
    {
      "cell_type": "code",
      "execution_count": null,
      "metadata": {
        "id": "m7OjsUkwQZ_d"
      },
      "outputs": [],
      "source": [
        "# Import dependecies \n",
        "\n",
        "import pandas as pd\n",
        "import matplotlib.pyplot as plt\n",
        "import seaborn as sns"
      ]
    },
    {
      "cell_type": "code",
      "source": [
        "# Import data\n",
        "\n",
        "data = pd.read_csv('data.csv')\n",
        "\n",
        "# Identify column of interest and rename it\n",
        "\n",
        "column = ['Admission Average']\n",
        "relevant_data = data[column].dropna().rename(columns={'Admission Average': 'average'})"
      ],
      "metadata": {
        "id": "H_rHOYC0QjBO"
      },
      "execution_count": null,
      "outputs": []
    },
    {
      "cell_type": "code",
      "source": [
        "# Generate distribution\n",
        "\n",
        "filtered_grades = relevant_data.dropna().sort_values(by='average')\n",
        "print(filtered_grades)"
      ],
      "metadata": {
        "colab": {
          "base_uri": "https://localhost:8080/"
        },
        "id": "2jKpQVGUQkei",
        "outputId": "55a79922-1672-4687-8d5f-790a6eae5854"
      },
      "execution_count": null,
      "outputs": [
        {
          "output_type": "stream",
          "name": "stdout",
          "text": [
            "    average\n",
            "1      89.0\n",
            "2      91.0\n",
            "3      92.0\n",
            "4      92.0\n",
            "5      92.0\n",
            "..      ...\n",
            "84     98.6\n",
            "85     99.0\n",
            "86     99.0\n",
            "87     99.2\n",
            "88     99.8\n",
            "\n",
            "[88 rows x 1 columns]\n"
          ]
        }
      ]
    },
    {
      "cell_type": "code",
      "source": [
        "# Plot graph with appropriate title, color palette, and data\n",
        "\n",
        "plt.figure()\n",
        "plt.title(\"What was your top 6 admission average, including prerequisites? [n=88]\")\n",
        "ax = sns.histplot(x=filtered_grades[\"average\"], data=filtered_grades, kde=True, color=\"#FE8C5A\")\n",
        "plt.xlabel(\"Average\")\n",
        "plt.ylabel(\"Number of Respondents\")"
      ],
      "metadata": {
        "colab": {
          "base_uri": "https://localhost:8080/",
          "height": 312
        },
        "id": "v5qYsz-9Qlz-",
        "outputId": "bcfcac2d-daa8-4305-ef0f-0b53aead79fe"
      },
      "execution_count": null,
      "outputs": [
        {
          "output_type": "execute_result",
          "data": {
            "text/plain": [
              "Text(0, 0.5, 'Number of Respondents')"
            ]
          },
          "metadata": {},
          "execution_count": 6
        },
        {
          "output_type": "display_data",
          "data": {
            "text/plain": [
              "<Figure size 432x288 with 1 Axes>"
            ],
            "image/png": "[encoded data removed]"
          },
          "metadata": {
            "needs_background": "light"
          }
        }
      ]
    }
  ]
}
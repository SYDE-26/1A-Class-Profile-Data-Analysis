{
 "cells": [
  {
   "cell_type": "code",
   "execution_count": 9,
   "id": "de053053",
   "metadata": {},
   "outputs": [],
   "source": [
    "import matplotlib.pyplot as plt\n",
    "import seaborn as sns\n",
    "import numpy as np\n",
    "%matplotlib inline\n",
    "import pandas as pd\n"
   ]
  },
  {
   "cell_type": "code",
   "execution_count": 10,
   "id": "fba6e45e",
   "metadata": {},
   "outputs": [
    {
     "data": {
      "text/html": [
       "<div>\n",
       "<style scoped>\n",
       "    .dataframe tbody tr th:only-of-type {\n",
       "        vertical-align: middle;\n",
       "    }\n",
       "\n",
       "    .dataframe tbody tr th {\n",
       "        vertical-align: top;\n",
       "    }\n",
       "\n",
       "    .dataframe thead th {\n",
       "        text-align: right;\n",
       "    }\n",
       "</style>\n",
       "<table border=\"1\" class=\"dataframe\">\n",
       "  <thead>\n",
       "    <tr style=\"text-align: right;\">\n",
       "      <th></th>\n",
       "      <th>extrac</th>\n",
       "    </tr>\n",
       "  </thead>\n",
       "  <tbody>\n",
       "    <tr>\n",
       "      <th>0</th>\n",
       "      <td>Arts</td>\n",
       "    </tr>\n",
       "    <tr>\n",
       "      <th>1</th>\n",
       "      <td>Arts</td>\n",
       "    </tr>\n",
       "    <tr>\n",
       "      <th>2</th>\n",
       "      <td>Arts</td>\n",
       "    </tr>\n",
       "    <tr>\n",
       "      <th>3</th>\n",
       "      <td>Clubs</td>\n",
       "    </tr>\n",
       "    <tr>\n",
       "      <th>4</th>\n",
       "      <td>Clubs</td>\n",
       "    </tr>\n",
       "  </tbody>\n",
       "</table>\n",
       "</div>"
      ],
      "text/plain": [
       "  extrac\n",
       "0   Arts\n",
       "1   Arts\n",
       "2   Arts\n",
       "3  Clubs\n",
       "4  Clubs"
      ]
     },
     "execution_count": 10,
     "metadata": {},
     "output_type": "execute_result"
    }
   ],
   "source": [
    "lifestyle_data = pd.read_csv('L&R.csv')\n",
    "rel_col = ['Which of the following extracurriculars did you regularly (e.g. at least biweekly) engage in throughout the term? (Select all that apply)']\n",
    "df = lifestyle_data[rel_col].dropna().rename(columns={'Which of the following extracurriculars did you regularly (e.g. at least biweekly) engage in throughout the term? (Select all that apply)': 'extrac'})\n",
    "df.head()"
   ]
  },
  {
   "cell_type": "code",
   "execution_count": 11,
   "id": "b3c388e3",
   "metadata": {},
   "outputs": [
    {
     "data": {
      "text/plain": [
       "extrac\n",
       "Arts                      4\n",
       "Clubs                    14\n",
       "Design Team              17\n",
       "Gym                       1\n",
       "Hangouts with Friends    78\n",
       "Sports                   25\n",
       "Syde Projects            26\n",
       "Volunteer Work            3\n",
       "Name: extrac, dtype: int64"
      ]
     },
     "execution_count": 11,
     "metadata": {},
     "output_type": "execute_result"
    }
   ],
   "source": [
    "distribution = df.dropna().groupby('extrac')['extrac'].count()\n",
    "distribution"
   ]
  },
  {
   "cell_type": "code",
   "execution_count": 15,
   "id": "019a8dc8",
   "metadata": {},
   "outputs": [],
   "source": [
    "dfex = pd.DataFrame ({\n",
    "    'Type' : ['Arts','Clubs','Design Team', 'Hangouts with Friends', 'Sports', 'Syde Projects'],\n",
    "    'Value' : [4,14,17,78,25,26]\n",
    "})"
   ]
  },
  {
   "cell_type": "code",
   "execution_count": 17,
   "id": "49cd145a",
   "metadata": {},
   "outputs": [],
   "source": [
    "# import the circlify library\n",
    "import circlify\n",
    "\n",
    "# compute circle positions:\n",
    "circles = circlify.circlify(\n",
    "    dfex['Value'].tolist(), \n",
    "    show_enclosure=False, \n",
    "    target_enclosure=circlify.Circle(x=0, y=0, r=1)\n",
    ")"
   ]
  },
  {
   "cell_type": "code",
   "execution_count": 18,
   "id": "ab494eba",
   "metadata": {},
   "outputs": [
    {
     "data": {
      "image/png": "[encoded data removed]",
      "text/plain": [
       "<Figure size 720x720 with 1 Axes>"
      ]
     },
     "metadata": {
      "needs_background": "light"
     },
     "output_type": "display_data"
    }
   ],
   "source": [
    "fig, ax = plt.subplots(figsize=(10,10))\n",
    "\n",
    "# Title\n",
    "ax.set_title('Extra Curricular Activities')\n",
    "\n",
    "# Remove axes\n",
    "ax.axis('off')\n",
    "\n",
    "# Find axis boundaries\n",
    "lim = max(\n",
    "    max(\n",
    "        abs(circle.x) + circle.r,\n",
    "        abs(circle.y) + circle.r,\n",
    "    )\n",
    "    for circle in circles\n",
    ")\n",
    "plt.xlim(-lim, lim)\n",
    "plt.ylim(-lim, lim)\n",
    "\n",
    "# list of labels\n",
    "labels = dfex['Type']\n",
    "\n",
    "# print circles\n",
    "for circle, label in zip(circles, labels):\n",
    "    x, y, r = circle\n",
    "    ax.add_patch(plt.Circle((x, y), r, alpha=0.2, linewidth=2))\n",
    "    plt.annotate(\n",
    "          label, \n",
    "          (x,y ) ,\n",
    "          va='center',\n",
    "          ha='center'\n",
    "     )"
   ]
  },
  {
   "cell_type": "code",
   "execution_count": 19,
   "id": "e1d70be7",
   "metadata": {},
   "outputs": [],
   "source": [
    "ax.figure.savefig('graphs/Extra_Curricular.svg')"
   ]
  },
  {
   "cell_type": "code",
   "execution_count": null,
   "id": "22122706",
   "metadata": {},
   "outputs": [],
   "source": []
  }
 ],
 "metadata": {
  "kernelspec": {
   "display_name": "Python 3",
   "language": "python",
   "name": "python3"
  },
  "language_info": {
   "codemirror_mode": {
    "name": "ipython",
    "version": 3
   },
   "file_extension": ".py",
   "mimetype": "text/x-python",
   "name": "python",
   "nbconvert_exporter": "python",
   "pygments_lexer": "ipython3",
   "version": "3.8.8"
  }
 },
 "nbformat": 4,
 "nbformat_minor": 5
}

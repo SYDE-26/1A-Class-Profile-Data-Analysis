{
 "cells": [
  {
   "cell_type": "code",
   "execution_count": 1,
   "id": "48a4e19f",
   "metadata": {},
   "outputs": [],
   "source": [
    "import pandas as pd\n",
    "import math\n",
    "import numpy as np\n",
    "import seaborn as sns\n",
    "import matplotlib.pyplot as plt"
   ]
  },
  {
   "cell_type": "code",
   "execution_count": 2,
   "id": "d9a5dcac",
   "metadata": {},
   "outputs": [
    {
     "data": {
      "text/html": [
       "<div>\n",
       "<style scoped>\n",
       "    .dataframe tbody tr th:only-of-type {\n",
       "        vertical-align: middle;\n",
       "    }\n",
       "\n",
       "    .dataframe tbody tr th {\n",
       "        vertical-align: top;\n",
       "    }\n",
       "\n",
       "    .dataframe thead th {\n",
       "        text-align: right;\n",
       "    }\n",
       "</style>\n",
       "<table border=\"1\" class=\"dataframe\">\n",
       "  <thead>\n",
       "    <tr style=\"text-align: right;\">\n",
       "      <th></th>\n",
       "      <th>stress</th>\n",
       "    </tr>\n",
       "  </thead>\n",
       "  <tbody>\n",
       "    <tr>\n",
       "      <th>0</th>\n",
       "      <td>1.0</td>\n",
       "    </tr>\n",
       "    <tr>\n",
       "      <th>1</th>\n",
       "      <td>2.0</td>\n",
       "    </tr>\n",
       "    <tr>\n",
       "      <th>2</th>\n",
       "      <td>2.0</td>\n",
       "    </tr>\n",
       "    <tr>\n",
       "      <th>3</th>\n",
       "      <td>2.0</td>\n",
       "    </tr>\n",
       "    <tr>\n",
       "      <th>4</th>\n",
       "      <td>2.0</td>\n",
       "    </tr>\n",
       "    <tr>\n",
       "      <th>...</th>\n",
       "      <td>...</td>\n",
       "    </tr>\n",
       "    <tr>\n",
       "      <th>86</th>\n",
       "      <td>7.0</td>\n",
       "    </tr>\n",
       "    <tr>\n",
       "      <th>87</th>\n",
       "      <td>7.0</td>\n",
       "    </tr>\n",
       "    <tr>\n",
       "      <th>88</th>\n",
       "      <td>7.0</td>\n",
       "    </tr>\n",
       "    <tr>\n",
       "      <th>89</th>\n",
       "      <td>7.0</td>\n",
       "    </tr>\n",
       "    <tr>\n",
       "      <th>90</th>\n",
       "      <td>7.0</td>\n",
       "    </tr>\n",
       "  </tbody>\n",
       "</table>\n",
       "<p>91 rows × 1 columns</p>\n",
       "</div>"
      ],
      "text/plain": [
       "    stress\n",
       "0      1.0\n",
       "1      2.0\n",
       "2      2.0\n",
       "3      2.0\n",
       "4      2.0\n",
       "..     ...\n",
       "86     7.0\n",
       "87     7.0\n",
       "88     7.0\n",
       "89     7.0\n",
       "90     7.0\n",
       "\n",
       "[91 rows x 1 columns]"
      ]
     },
     "execution_count": 2,
     "metadata": {},
     "output_type": "execute_result"
    }
   ],
   "source": [
    "lifestyle_data = pd.read_csv('L&R.csv')\n",
    "relevant_cols = ['What was your general stress level throughout the term?']\n",
    "stress_df = lifestyle_data[relevant_cols].dropna().rename(columns={'What was your general stress level throughout the term?' : \"stress\"})\n",
    "stress_df"
   ]
  },
  {
   "cell_type": "code",
   "execution_count": 3,
   "id": "5a72e3e1",
   "metadata": {},
   "outputs": [
    {
     "data": {
      "text/plain": [
       "stress\n",
       "1.0     1\n",
       "2.0     6\n",
       "3.0     9\n",
       "4.0    16\n",
       "5.0    33\n",
       "6.0    20\n",
       "7.0     6\n",
       "Name: stress, dtype: int64"
      ]
     },
     "execution_count": 3,
     "metadata": {},
     "output_type": "execute_result"
    }
   ],
   "source": [
    "stress_unnamed = stress_df.groupby('stress')['stress'].count()\n",
    "stress_unnamed"
   ]
  },
  {
   "cell_type": "code",
   "execution_count": 4,
   "id": "2dd5d8c9",
   "metadata": {},
   "outputs": [
    {
     "data": {
      "text/plain": [
       "stress\n",
       "1.0     1.086957\n",
       "2.0     6.521739\n",
       "3.0     9.782609\n",
       "4.0    17.391304\n",
       "5.0    35.869565\n",
       "6.0    21.739130\n",
       "7.0     6.521739\n",
       "Name: stress, dtype: float64"
      ]
     },
     "execution_count": 4,
     "metadata": {},
     "output_type": "execute_result"
    }
   ],
   "source": [
    "total = 92\n",
    "percent = (stress_unnamed/ 92) *100\n",
    "percent"
   ]
  },
  {
   "cell_type": "code",
   "execution_count": 5,
   "id": "244ffec4",
   "metadata": {},
   "outputs": [
    {
     "data": {
      "text/html": [
       "<div>\n",
       "<style scoped>\n",
       "    .dataframe tbody tr th:only-of-type {\n",
       "        vertical-align: middle;\n",
       "    }\n",
       "\n",
       "    .dataframe tbody tr th {\n",
       "        vertical-align: top;\n",
       "    }\n",
       "\n",
       "    .dataframe thead th {\n",
       "        text-align: right;\n",
       "    }\n",
       "</style>\n",
       "<table border=\"1\" class=\"dataframe\">\n",
       "  <thead>\n",
       "    <tr style=\"text-align: right;\">\n",
       "      <th></th>\n",
       "      <th>stress</th>\n",
       "      <th>Number of people</th>\n",
       "    </tr>\n",
       "  </thead>\n",
       "  <tbody>\n",
       "    <tr>\n",
       "      <th>0</th>\n",
       "      <td>1.0</td>\n",
       "      <td>1</td>\n",
       "    </tr>\n",
       "    <tr>\n",
       "      <th>1</th>\n",
       "      <td>2.0</td>\n",
       "      <td>6</td>\n",
       "    </tr>\n",
       "    <tr>\n",
       "      <th>2</th>\n",
       "      <td>2.0</td>\n",
       "      <td>6</td>\n",
       "    </tr>\n",
       "    <tr>\n",
       "      <th>3</th>\n",
       "      <td>2.0</td>\n",
       "      <td>6</td>\n",
       "    </tr>\n",
       "    <tr>\n",
       "      <th>4</th>\n",
       "      <td>2.0</td>\n",
       "      <td>6</td>\n",
       "    </tr>\n",
       "    <tr>\n",
       "      <th>...</th>\n",
       "      <td>...</td>\n",
       "      <td>...</td>\n",
       "    </tr>\n",
       "    <tr>\n",
       "      <th>86</th>\n",
       "      <td>7.0</td>\n",
       "      <td>6</td>\n",
       "    </tr>\n",
       "    <tr>\n",
       "      <th>87</th>\n",
       "      <td>7.0</td>\n",
       "      <td>6</td>\n",
       "    </tr>\n",
       "    <tr>\n",
       "      <th>88</th>\n",
       "      <td>7.0</td>\n",
       "      <td>6</td>\n",
       "    </tr>\n",
       "    <tr>\n",
       "      <th>89</th>\n",
       "      <td>7.0</td>\n",
       "      <td>6</td>\n",
       "    </tr>\n",
       "    <tr>\n",
       "      <th>90</th>\n",
       "      <td>7.0</td>\n",
       "      <td>6</td>\n",
       "    </tr>\n",
       "  </tbody>\n",
       "</table>\n",
       "<p>91 rows × 2 columns</p>\n",
       "</div>"
      ],
      "text/plain": [
       "    stress  Number of people\n",
       "0      1.0                 1\n",
       "1      2.0                 6\n",
       "2      2.0                 6\n",
       "3      2.0                 6\n",
       "4      2.0                 6\n",
       "..     ...               ...\n",
       "86     7.0                 6\n",
       "87     7.0                 6\n",
       "88     7.0                 6\n",
       "89     7.0                 6\n",
       "90     7.0                 6\n",
       "\n",
       "[91 rows x 2 columns]"
      ]
     },
     "execution_count": 5,
     "metadata": {},
     "output_type": "execute_result"
    }
   ],
   "source": [
    "stress_df['Number of people'] = stress_df.groupby(['stress'])['stress'].transform('count')\n",
    "\n",
    "stress_df"
   ]
  },
  {
   "cell_type": "code",
   "execution_count": 6,
   "id": "fca4bec0",
   "metadata": {},
   "outputs": [
    {
     "data": {
      "text/plain": [
       "Text(0, 0.5, 'Number of respondants')"
      ]
     },
     "execution_count": 6,
     "metadata": {},
     "output_type": "execute_result"
    },
    {
     "data": {
      "image/png": "[encoded data removed]",
      "text/plain": [
       "<Figure size 1008x576 with 1 Axes>"
      ]
     },
     "metadata": {
      "needs_background": "light"
     },
     "output_type": "display_data"
    }
   ],
   "source": [
    "\n",
    "plt.figure(figsize=(14,8))\n",
    "plt.title(\"What was your general stress level throughout the term? [n=91]\", fontsize=16, y=1.02)\n",
    "graph = sns.barplot(x=stress_df[\"stress\"], y=stress_df[\"Number of people\"], data=stress_df, color=\"#749BFF\")\n",
    "graph.set(ylim=(0, 40))\n",
    "plt.bar_label(graph.containers[0])\n",
    "plt.xlabel(\"Stress level (Scale from 1-10)\", labelpad=15, fontsize=16)\n",
    "plt.ylabel(\"Number of respondants\" , labelpad=15, fontsize=16)"
   ]
  },
  {
   "cell_type": "code",
   "execution_count": 7,
   "id": "4c8d4cfd",
   "metadata": {},
   "outputs": [],
   "source": [
    "graph.figure.savefig('graphs/Stree_Level.png')"
   ]
  },
  {
   "cell_type": "code",
   "execution_count": null,
   "id": "0e062da6",
   "metadata": {},
   "outputs": [],
   "source": []
  }
 ],
 "metadata": {
  "kernelspec": {
   "display_name": "Python 3 (ipykernel)",
   "language": "python",
   "name": "python3"
  },
  "language_info": {
   "codemirror_mode": {
    "name": "ipython",
    "version": 3
   },
   "file_extension": ".py",
   "mimetype": "text/x-python",
   "name": "python",
   "nbconvert_exporter": "python",
   "pygments_lexer": "ipython3",
   "version": "3.9.7"
  }
 },
 "nbformat": 4,
 "nbformat_minor": 5
}

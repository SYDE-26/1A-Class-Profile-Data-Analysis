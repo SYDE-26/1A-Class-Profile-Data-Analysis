{
 "cells": [
  {
   "cell_type": "code",
   "execution_count": 17,
   "id": "f350f765",
   "metadata": {},
   "outputs": [],
   "source": [
    "import matplotlib.pyplot as plt\n",
    "import seaborn as sns\n",
    "import pandas as pd\n",
    "import numpy as np"
   ]
  },
  {
   "cell_type": "code",
   "execution_count": 18,
   "id": "237c8ac1",
   "metadata": {},
   "outputs": [
    {
     "data": {
      "text/html": [
       "<div>\n",
       "<style scoped>\n",
       "    .dataframe tbody tr th:only-of-type {\n",
       "        vertical-align: middle;\n",
       "    }\n",
       "\n",
       "    .dataframe tbody tr th {\n",
       "        vertical-align: top;\n",
       "    }\n",
       "\n",
       "    .dataframe thead th {\n",
       "        text-align: right;\n",
       "    }\n",
       "</style>\n",
       "<table border=\"1\" class=\"dataframe\">\n",
       "  <thead>\n",
       "    <tr style=\"text-align: right;\">\n",
       "      <th></th>\n",
       "      <th>highschool</th>\n",
       "      <th>syde</th>\n",
       "    </tr>\n",
       "  </thead>\n",
       "  <tbody>\n",
       "    <tr>\n",
       "      <th>0</th>\n",
       "      <td>0.0</td>\n",
       "      <td>0.0</td>\n",
       "    </tr>\n",
       "    <tr>\n",
       "      <th>1</th>\n",
       "      <td>1.0</td>\n",
       "      <td>0.0</td>\n",
       "    </tr>\n",
       "    <tr>\n",
       "      <th>2</th>\n",
       "      <td>1.0</td>\n",
       "      <td>0.0</td>\n",
       "    </tr>\n",
       "    <tr>\n",
       "      <th>3</th>\n",
       "      <td>1.0</td>\n",
       "      <td>0.0</td>\n",
       "    </tr>\n",
       "    <tr>\n",
       "      <th>4</th>\n",
       "      <td>1.0</td>\n",
       "      <td>0.0</td>\n",
       "    </tr>\n",
       "  </tbody>\n",
       "</table>\n",
       "</div>"
      ],
      "text/plain": [
       "   highschool  syde\n",
       "0         0.0   0.0\n",
       "1         1.0   0.0\n",
       "2         1.0   0.0\n",
       "3         1.0   0.0\n",
       "4         1.0   0.0"
      ]
     },
     "execution_count": 18,
     "metadata": {},
     "output_type": "execute_result"
    }
   ],
   "source": [
    "lifestyle_data = pd.read_csv('L&R.csv')\n",
    "rel_cols = ['What percentage of your high school friends do you still keep in touch/are still friends with?',\n",
    "           'What percentage of your current friends are in SYDE?'\n",
    "           ]\n",
    "df = lifestyle_data[rel_cols].dropna().rename(columns={'What percentage of your high school friends do you still keep in touch/are still friends with?': 'highschool',\n",
    "                                                      'What percentage of your current friends are in SYDE?' : 'syde'\n",
    "                                                     })\n",
    "df.head()"
   ]
  },
  {
   "cell_type": "code",
   "execution_count": 19,
   "id": "2c35120b",
   "metadata": {},
   "outputs": [
    {
     "data": {
      "text/plain": [
       "highschool\n",
       "0.0      1\n",
       "1.0      7\n",
       "2.0      5\n",
       "3.0      9\n",
       "4.0      8\n",
       "5.0     11\n",
       "6.0     11\n",
       "7.0      6\n",
       "8.0     10\n",
       "9.0     17\n",
       "10.0     6\n",
       "Name: highschool, dtype: int64"
      ]
     },
     "execution_count": 19,
     "metadata": {},
     "output_type": "execute_result"
    }
   ],
   "source": [
    "group_highschool = df.groupby('highschool')['highschool'].count()\n",
    "group_syde = df.groupby('syde')['syde'].count()\n",
    "group_highschool"
   ]
  },
  {
   "cell_type": "code",
   "execution_count": 20,
   "id": "d4784af1",
   "metadata": {},
   "outputs": [
    {
     "data": {
      "text/plain": [
       "syde\n",
       "0.0      8\n",
       "1.0     19\n",
       "2.0      8\n",
       "3.0     10\n",
       "4.0      3\n",
       "5.0      9\n",
       "6.0      6\n",
       "7.0     11\n",
       "8.0     10\n",
       "9.0      5\n",
       "10.0     2\n",
       "Name: syde, dtype: int64"
      ]
     },
     "execution_count": 20,
     "metadata": {},
     "output_type": "execute_result"
    }
   ],
   "source": [
    "group_syde"
   ]
  },
  {
   "cell_type": "code",
   "execution_count": 35,
   "id": "1df68bee",
   "metadata": {},
   "outputs": [
    {
     "data": {
      "image/png": "[encoded data removed]",
      "text/plain": [
       "<Figure size 1008x576 with 1 Axes>"
      ]
     },
     "metadata": {
      "needs_background": "light"
     },
     "output_type": "display_data"
    }
   ],
   "source": [
    "labels = ['0.0-20%','21-40%','41-60%','61-80%','81-100%']\n",
    "highschool =[13,17,22,16,23]\n",
    "syde = [25,13,17,21,7]\n",
    "x=np.arange(len(labels))\n",
    "width = 0.6\n",
    "fig,ax = plt.subplots(figsize=(14,8))\n",
    "rects1 = plt.bar(x- 0.2, highschool, 0.4, color='#C067E2', label='Highschool-Friends')\n",
    "rects2 = plt.bar(x+ 0.2, syde, 0.4, color='#d294ea', label='Syde-Friends')\n",
    "\n",
    "plt.xticks(x, labels)\n",
    "plt.xlabel(\"Percentage of Friends\")\n",
    "plt.ylabel('Percentage of Respondants (%)')\n",
    "plt.title(\"Syde Friends vs Highschool Friends n=[92]\")\n",
    "ax.bar_label(rects1, padding=3)\n",
    "ax.bar_label(rects2, padding=3)\n",
    "\n",
    "plt.legend()\n",
    "plt.show()"
   ]
  },
  {
   "cell_type": "code",
   "execution_count": null,
   "id": "814cb264",
   "metadata": {},
   "outputs": [],
   "source": []
  }
 ],
 "metadata": {
  "kernelspec": {
   "display_name": "Python 3",
   "language": "python",
   "name": "python3"
  },
  "language_info": {
   "codemirror_mode": {
    "name": "ipython",
    "version": 3
   },
   "file_extension": ".py",
   "mimetype": "text/x-python",
   "name": "python",
   "nbconvert_exporter": "python",
   "pygments_lexer": "ipython3",
   "version": "3.8.8"
  }
 },
 "nbformat": 4,
 "nbformat_minor": 5
}

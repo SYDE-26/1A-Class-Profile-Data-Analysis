{
 "cells": [
  {
   "cell_type": "code",
   "execution_count": 102,
   "id": "f350f765",
   "metadata": {},
   "outputs": [],
   "source": [
    "import matplotlib.pyplot as plt\n",
    "import seaborn as sns\n",
    "import pandas as pd\n",
    "import numpy as np"
   ]
  },
  {
   "cell_type": "code",
   "execution_count": 103,
   "id": "237c8ac1",
   "metadata": {},
   "outputs": [
    {
     "data": {
      "text/html": [
       "<div>\n",
       "<style scoped>\n",
       "    .dataframe tbody tr th:only-of-type {\n",
       "        vertical-align: middle;\n",
       "    }\n",
       "\n",
       "    .dataframe tbody tr th {\n",
       "        vertical-align: top;\n",
       "    }\n",
       "\n",
       "    .dataframe thead th {\n",
       "        text-align: right;\n",
       "    }\n",
       "</style>\n",
       "<table border=\"1\" class=\"dataframe\">\n",
       "  <thead>\n",
       "    <tr style=\"text-align: right;\">\n",
       "      <th></th>\n",
       "      <th>highschool</th>\n",
       "      <th>syde</th>\n",
       "      <th>What percentage of the class can you name</th>\n",
       "    </tr>\n",
       "  </thead>\n",
       "  <tbody>\n",
       "    <tr>\n",
       "      <th>0</th>\n",
       "      <td>0.0</td>\n",
       "      <td>0.0</td>\n",
       "      <td>0.0</td>\n",
       "    </tr>\n",
       "    <tr>\n",
       "      <th>1</th>\n",
       "      <td>1.0</td>\n",
       "      <td>0.0</td>\n",
       "      <td>0.0</td>\n",
       "    </tr>\n",
       "    <tr>\n",
       "      <th>2</th>\n",
       "      <td>1.0</td>\n",
       "      <td>0.0</td>\n",
       "      <td>1.0</td>\n",
       "    </tr>\n",
       "    <tr>\n",
       "      <th>3</th>\n",
       "      <td>1.0</td>\n",
       "      <td>0.0</td>\n",
       "      <td>1.0</td>\n",
       "    </tr>\n",
       "    <tr>\n",
       "      <th>4</th>\n",
       "      <td>1.0</td>\n",
       "      <td>0.0</td>\n",
       "      <td>1.0</td>\n",
       "    </tr>\n",
       "  </tbody>\n",
       "</table>\n",
       "</div>"
      ],
      "text/plain": [
       "   highschool  syde  What percentage of the class can you name\n",
       "0         0.0   0.0                                        0.0\n",
       "1         1.0   0.0                                        0.0\n",
       "2         1.0   0.0                                        1.0\n",
       "3         1.0   0.0                                        1.0\n",
       "4         1.0   0.0                                        1.0"
      ]
     },
     "execution_count": 103,
     "metadata": {},
     "output_type": "execute_result"
    }
   ],
   "source": [
    "lifestyle_data = pd.read_csv('L&R.csv')\n",
    "rel_cols = ['What percentage of your high school friends do you still keep in touch/are still friends with?',\n",
    "           'What percentage of your current friends are in SYDE?',\n",
    "           'What percentage of the class could you name? (Intervals are in +10%)']\n",
    "df = lifestyle_data[rel_cols].dropna().rename(columns={'What percentage of your high school friends do you still keep in touch/are still friends with?': 'highschool',\n",
    "                                                      'What percentage of your current friends are in SYDE?' : 'syde',\n",
    "                                                      'What percentage of the class could you name? (Intervals are in +10%)' : 'What percentage of the class can you name'})\n",
    "df.head()"
   ]
  },
  {
   "cell_type": "code",
   "execution_count": 104,
   "id": "2c35120b",
   "metadata": {},
   "outputs": [
    {
     "data": {
      "text/plain": [
       "highschool\n",
       "0.0      1\n",
       "1.0      7\n",
       "2.0      5\n",
       "3.0      9\n",
       "4.0      8\n",
       "5.0     11\n",
       "6.0     11\n",
       "7.0      6\n",
       "8.0     10\n",
       "9.0     17\n",
       "10.0     5\n",
       "Name: highschool, dtype: int64"
      ]
     },
     "execution_count": 104,
     "metadata": {},
     "output_type": "execute_result"
    }
   ],
   "source": [
    "group_highschool = df.groupby('highschool')['highschool'].count()\n",
    "group_syde = df.groupby('syde')['syde'].count()\n",
    "group_name = df.groupby('What percentage of the class can you name')['What percentage of the class can you name'].count()\n",
    "group_highschool\n",
    "#group_syde\n",
    "#group_name"
   ]
  },
  {
   "cell_type": "code",
   "execution_count": 105,
   "id": "81064f57",
   "metadata": {},
   "outputs": [
    {
     "data": {
      "text/html": [
       "<div>\n",
       "<style scoped>\n",
       "    .dataframe tbody tr th:only-of-type {\n",
       "        vertical-align: middle;\n",
       "    }\n",
       "\n",
       "    .dataframe tbody tr th {\n",
       "        vertical-align: top;\n",
       "    }\n",
       "\n",
       "    .dataframe thead th {\n",
       "        text-align: right;\n",
       "    }\n",
       "</style>\n",
       "<table border=\"1\" class=\"dataframe\">\n",
       "  <thead>\n",
       "    <tr style=\"text-align: right;\">\n",
       "      <th></th>\n",
       "      <th>highschool</th>\n",
       "      <th>syde</th>\n",
       "      <th>What percentage of the class can you name</th>\n",
       "      <th>Number of People</th>\n",
       "    </tr>\n",
       "  </thead>\n",
       "  <tbody>\n",
       "    <tr>\n",
       "      <th>0</th>\n",
       "      <td>0.0</td>\n",
       "      <td>0.0</td>\n",
       "      <td>0.0</td>\n",
       "      <td>1</td>\n",
       "    </tr>\n",
       "    <tr>\n",
       "      <th>1</th>\n",
       "      <td>1.0</td>\n",
       "      <td>0.0</td>\n",
       "      <td>0.0</td>\n",
       "      <td>7</td>\n",
       "    </tr>\n",
       "    <tr>\n",
       "      <th>2</th>\n",
       "      <td>1.0</td>\n",
       "      <td>0.0</td>\n",
       "      <td>1.0</td>\n",
       "      <td>7</td>\n",
       "    </tr>\n",
       "    <tr>\n",
       "      <th>3</th>\n",
       "      <td>1.0</td>\n",
       "      <td>0.0</td>\n",
       "      <td>1.0</td>\n",
       "      <td>7</td>\n",
       "    </tr>\n",
       "    <tr>\n",
       "      <th>4</th>\n",
       "      <td>1.0</td>\n",
       "      <td>0.0</td>\n",
       "      <td>1.0</td>\n",
       "      <td>7</td>\n",
       "    </tr>\n",
       "    <tr>\n",
       "      <th>...</th>\n",
       "      <td>...</td>\n",
       "      <td>...</td>\n",
       "      <td>...</td>\n",
       "      <td>...</td>\n",
       "    </tr>\n",
       "    <tr>\n",
       "      <th>85</th>\n",
       "      <td>10.0</td>\n",
       "      <td>9.0</td>\n",
       "      <td>8.0</td>\n",
       "      <td>5</td>\n",
       "    </tr>\n",
       "    <tr>\n",
       "      <th>86</th>\n",
       "      <td>10.0</td>\n",
       "      <td>9.0</td>\n",
       "      <td>9.0</td>\n",
       "      <td>5</td>\n",
       "    </tr>\n",
       "    <tr>\n",
       "      <th>87</th>\n",
       "      <td>10.0</td>\n",
       "      <td>9.0</td>\n",
       "      <td>9.0</td>\n",
       "      <td>5</td>\n",
       "    </tr>\n",
       "    <tr>\n",
       "      <th>88</th>\n",
       "      <td>10.0</td>\n",
       "      <td>9.0</td>\n",
       "      <td>9.0</td>\n",
       "      <td>5</td>\n",
       "    </tr>\n",
       "    <tr>\n",
       "      <th>89</th>\n",
       "      <td>10.0</td>\n",
       "      <td>10.0</td>\n",
       "      <td>9.0</td>\n",
       "      <td>5</td>\n",
       "    </tr>\n",
       "  </tbody>\n",
       "</table>\n",
       "<p>90 rows × 4 columns</p>\n",
       "</div>"
      ],
      "text/plain": [
       "    highschool  syde  What percentage of the class can you name  \\\n",
       "0          0.0   0.0                                        0.0   \n",
       "1          1.0   0.0                                        0.0   \n",
       "2          1.0   0.0                                        1.0   \n",
       "3          1.0   0.0                                        1.0   \n",
       "4          1.0   0.0                                        1.0   \n",
       "..         ...   ...                                        ...   \n",
       "85        10.0   9.0                                        8.0   \n",
       "86        10.0   9.0                                        9.0   \n",
       "87        10.0   9.0                                        9.0   \n",
       "88        10.0   9.0                                        9.0   \n",
       "89        10.0  10.0                                        9.0   \n",
       "\n",
       "    Number of People  \n",
       "0                  1  \n",
       "1                  7  \n",
       "2                  7  \n",
       "3                  7  \n",
       "4                  7  \n",
       "..               ...  \n",
       "85                 5  \n",
       "86                 5  \n",
       "87                 5  \n",
       "88                 5  \n",
       "89                 5  \n",
       "\n",
       "[90 rows x 4 columns]"
      ]
     },
     "execution_count": 105,
     "metadata": {},
     "output_type": "execute_result"
    }
   ],
   "source": [
    "df['Number of People'] = df.groupby(['highschool'])['highschool'].transform('count')\n",
    "df"
   ]
  },
  {
   "cell_type": "code",
   "execution_count": 106,
   "id": "9d782f16",
   "metadata": {},
   "outputs": [],
   "source": [
    "total = df['Number of People'].sum()\n",
    "total\n",
    "syde_sum = df['syde'].sum()\n",
    "highschool_sum =df['highschool'].sum()\n",
    "name_sum = df['What percentage of the class can you name'].sum()"
   ]
  },
  {
   "cell_type": "code",
   "execution_count": 107,
   "id": "bd98c5b9",
   "metadata": {},
   "outputs": [
    {
     "data": {
      "text/html": [
       "<div>\n",
       "<style scoped>\n",
       "    .dataframe tbody tr th:only-of-type {\n",
       "        vertical-align: middle;\n",
       "    }\n",
       "\n",
       "    .dataframe tbody tr th {\n",
       "        vertical-align: top;\n",
       "    }\n",
       "\n",
       "    .dataframe thead th {\n",
       "        text-align: right;\n",
       "    }\n",
       "</style>\n",
       "<table border=\"1\" class=\"dataframe\">\n",
       "  <thead>\n",
       "    <tr style=\"text-align: right;\">\n",
       "      <th></th>\n",
       "      <th>highschool</th>\n",
       "      <th>syde</th>\n",
       "      <th>What percentage of the class can you name</th>\n",
       "      <th>Number of People</th>\n",
       "      <th>Percentage of people</th>\n",
       "    </tr>\n",
       "  </thead>\n",
       "  <tbody>\n",
       "    <tr>\n",
       "      <th>0</th>\n",
       "      <td>0.0</td>\n",
       "      <td>0.0</td>\n",
       "      <td>0.0</td>\n",
       "      <td>1</td>\n",
       "      <td>10.964912</td>\n",
       "    </tr>\n",
       "    <tr>\n",
       "      <th>1</th>\n",
       "      <td>1.0</td>\n",
       "      <td>0.0</td>\n",
       "      <td>0.0</td>\n",
       "      <td>7</td>\n",
       "      <td>76.754386</td>\n",
       "    </tr>\n",
       "    <tr>\n",
       "      <th>2</th>\n",
       "      <td>1.0</td>\n",
       "      <td>0.0</td>\n",
       "      <td>1.0</td>\n",
       "      <td>7</td>\n",
       "      <td>76.754386</td>\n",
       "    </tr>\n",
       "    <tr>\n",
       "      <th>3</th>\n",
       "      <td>1.0</td>\n",
       "      <td>0.0</td>\n",
       "      <td>1.0</td>\n",
       "      <td>7</td>\n",
       "      <td>76.754386</td>\n",
       "    </tr>\n",
       "    <tr>\n",
       "      <th>4</th>\n",
       "      <td>1.0</td>\n",
       "      <td>0.0</td>\n",
       "      <td>1.0</td>\n",
       "      <td>7</td>\n",
       "      <td>76.754386</td>\n",
       "    </tr>\n",
       "    <tr>\n",
       "      <th>...</th>\n",
       "      <td>...</td>\n",
       "      <td>...</td>\n",
       "      <td>...</td>\n",
       "      <td>...</td>\n",
       "      <td>...</td>\n",
       "    </tr>\n",
       "    <tr>\n",
       "      <th>85</th>\n",
       "      <td>10.0</td>\n",
       "      <td>9.0</td>\n",
       "      <td>8.0</td>\n",
       "      <td>5</td>\n",
       "      <td>54.824561</td>\n",
       "    </tr>\n",
       "    <tr>\n",
       "      <th>86</th>\n",
       "      <td>10.0</td>\n",
       "      <td>9.0</td>\n",
       "      <td>9.0</td>\n",
       "      <td>5</td>\n",
       "      <td>54.824561</td>\n",
       "    </tr>\n",
       "    <tr>\n",
       "      <th>87</th>\n",
       "      <td>10.0</td>\n",
       "      <td>9.0</td>\n",
       "      <td>9.0</td>\n",
       "      <td>5</td>\n",
       "      <td>54.824561</td>\n",
       "    </tr>\n",
       "    <tr>\n",
       "      <th>88</th>\n",
       "      <td>10.0</td>\n",
       "      <td>9.0</td>\n",
       "      <td>9.0</td>\n",
       "      <td>5</td>\n",
       "      <td>54.824561</td>\n",
       "    </tr>\n",
       "    <tr>\n",
       "      <th>89</th>\n",
       "      <td>10.0</td>\n",
       "      <td>10.0</td>\n",
       "      <td>9.0</td>\n",
       "      <td>5</td>\n",
       "      <td>54.824561</td>\n",
       "    </tr>\n",
       "  </tbody>\n",
       "</table>\n",
       "<p>90 rows × 5 columns</p>\n",
       "</div>"
      ],
      "text/plain": [
       "    highschool  syde  What percentage of the class can you name  \\\n",
       "0          0.0   0.0                                        0.0   \n",
       "1          1.0   0.0                                        0.0   \n",
       "2          1.0   0.0                                        1.0   \n",
       "3          1.0   0.0                                        1.0   \n",
       "4          1.0   0.0                                        1.0   \n",
       "..         ...   ...                                        ...   \n",
       "85        10.0   9.0                                        8.0   \n",
       "86        10.0   9.0                                        9.0   \n",
       "87        10.0   9.0                                        9.0   \n",
       "88        10.0   9.0                                        9.0   \n",
       "89        10.0  10.0                                        9.0   \n",
       "\n",
       "    Number of People  Percentage of people  \n",
       "0                  1             10.964912  \n",
       "1                  7             76.754386  \n",
       "2                  7             76.754386  \n",
       "3                  7             76.754386  \n",
       "4                  7             76.754386  \n",
       "..               ...                   ...  \n",
       "85                 5             54.824561  \n",
       "86                 5             54.824561  \n",
       "87                 5             54.824561  \n",
       "88                 5             54.824561  \n",
       "89                 5             54.824561  \n",
       "\n",
       "[90 rows x 5 columns]"
      ]
     },
     "execution_count": 107,
     "metadata": {},
     "output_type": "execute_result"
    }
   ],
   "source": [
    "df['Percentage of people'] = ((df['Number of People'] / total) * 100) *100\n",
    "df"
   ]
  },
  {
   "cell_type": "code",
   "execution_count": 108,
   "id": "3d67bb86",
   "metadata": {},
   "outputs": [
    {
     "data": {
      "text/plain": [
       "40.57017543859649"
      ]
     },
     "execution_count": 108,
     "metadata": {},
     "output_type": "execute_result"
    }
   ],
   "source": [
    "syde_percentage = ((syde_sum / total)*100)\n",
    "syde_percentage"
   ]
  },
  {
   "cell_type": "code",
   "execution_count": 109,
   "id": "1596ed58",
   "metadata": {},
   "outputs": [
    {
     "data": {
      "text/plain": [
       "57.23684210526315"
      ]
     },
     "execution_count": 109,
     "metadata": {},
     "output_type": "execute_result"
    }
   ],
   "source": [
    "highschool_percentage = ((highschool_sum / total)*100)\n",
    "highschool_percentage"
   ]
  },
  {
   "cell_type": "code",
   "execution_count": 110,
   "id": "4db8f267",
   "metadata": {},
   "outputs": [
    {
     "data": {
      "text/plain": [
       "42.10526315789473"
      ]
     },
     "execution_count": 110,
     "metadata": {},
     "output_type": "execute_result"
    }
   ],
   "source": [
    "name_percentage = ((name_sum/total)*100)\n",
    "name_percentage"
   ]
  },
  {
   "cell_type": "code",
   "execution_count": 113,
   "id": "9055c6cc",
   "metadata": {},
   "outputs": [],
   "source": [
    "x = ['syde', 'highschool']\n",
    "y = [41,57]"
   ]
  },
  {
   "cell_type": "code",
   "execution_count": 116,
   "id": "6f94af48",
   "metadata": {},
   "outputs": [
    {
     "name": "stderr",
     "output_type": "stream",
     "text": [
      "T:\\Anaconda\\lib\\site-packages\\seaborn\\_decorators.py:36: FutureWarning: Pass the following variables as keyword args: x, y. From version 0.12, the only valid positional argument will be `data`, and passing other arguments without an explicit keyword will result in an error or misinterpretation.\n",
      "  warnings.warn(\n"
     ]
    },
    {
     "data": {
      "text/plain": [
       "Text(0, 0.5, 'Friends (%)')"
      ]
     },
     "execution_count": 116,
     "metadata": {},
     "output_type": "execute_result"
    },
    {
     "data": {
      "image/png": "[encoded data removed]",
      "text/plain": [
       "<Figure size 432x288 with 1 Axes>"
      ]
     },
     "metadata": {},
     "output_type": "display_data"
    }
   ],
   "source": [
    "sns.set(font_scale=1.2)\n",
    "sns.set_theme(palette=\"dark\")\n",
    "graph = sns.barplot(x, y ,  palette = 'dark')\n",
    "plt.ylabel(\"Friends (%)\")\n"
   ]
  },
  {
   "cell_type": "code",
   "execution_count": 118,
   "id": "afe8690c",
   "metadata": {},
   "outputs": [],
   "source": [
    "graph.figure.savefig('graphs/Friends_SYde_VS_Highschool.svg')"
   ]
  }
 ],
 "metadata": {
  "kernelspec": {
   "display_name": "Python 3",
   "language": "python",
   "name": "python3"
  },
  "language_info": {
   "codemirror_mode": {
    "name": "ipython",
    "version": 3
   },
   "file_extension": ".py",
   "mimetype": "text/x-python",
   "name": "python",
   "nbconvert_exporter": "python",
   "pygments_lexer": "ipython3",
   "version": "3.8.8"
  }
 },
 "nbformat": 4,
 "nbformat_minor": 5
}
